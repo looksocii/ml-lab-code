{
 "cells": [
  {
   "cell_type": "markdown",
   "metadata": {},
   "source": [
    "Before you turn this problem in, make sure everything runs as expected. First, **restart the kernel** (in the menubar, select Kernel$\\rightarrow$Restart) and then **run all cells** (in the menubar, select Cell$\\rightarrow$Run All).\n",
    "\n",
    "Make sure you fill in any place that says `YOUR CODE HERE` or \"YOUR ANSWER HERE\", as well as your name and student id below:"
   ]
  },
  {
   "cell_type": "code",
   "execution_count": 1,
   "metadata": {},
   "outputs": [],
   "source": [
    "NAME = \"PUNTAKARN KAEWSANGHAN\"\n",
    "STUDENT_ID = \"61070139\""
   ]
  },
  {
   "cell_type": "markdown",
   "metadata": {},
   "source": [
    "---"
   ]
  },
  {
   "cell_type": "markdown",
   "metadata": {
    "deletable": false,
    "editable": false,
    "nbgrader": {
     "cell_type": "markdown",
     "checksum": "1023d0405e3e85a86dd57854e6fec6f5",
     "grade": false,
     "grade_id": "cell-9974a0fa8e0a3d56",
     "locked": true,
     "schema_version": 3,
     "solution": false,
     "task": false
    }
   },
   "source": [
    "# 1 Least Squares"
   ]
  },
  {
   "cell_type": "markdown",
   "metadata": {
    "deletable": false,
    "editable": false,
    "nbgrader": {
     "cell_type": "markdown",
     "checksum": "6c88ff235bcab9de2dc354ca61b81e1d",
     "grade": false,
     "grade_id": "cell-31a713ba8c1f1301",
     "locked": true,
     "schema_version": 3,
     "solution": false,
     "task": false
    }
   },
   "source": [
    "**The dataset can be downloaded at https://bit.ly/2RZ15t2**"
   ]
  },
  {
   "cell_type": "code",
   "execution_count": 2,
   "metadata": {
    "ExecuteTime": {
     "end_time": "2021-02-03T19:11:06.705873Z",
     "start_time": "2021-02-03T19:11:06.285900Z"
    }
   },
   "outputs": [],
   "source": [
    "import pandas as pd\n",
    "import numpy as np\n",
    "import matplotlib.pyplot as plt"
   ]
  },
  {
   "cell_type": "markdown",
   "metadata": {
    "deletable": false,
    "editable": false,
    "nbgrader": {
     "cell_type": "markdown",
     "checksum": "a0ab4ad534e96d1358bb6c474668156c",
     "grade": false,
     "grade_id": "cell-83d68cf2ade2c76b",
     "locked": true,
     "schema_version": 3,
     "solution": false,
     "task": false
    }
   },
   "source": [
    "## 1.1 Load a dataset from `ex1_x.csv` as $x$ and `ex1_z.csv` as $z$"
   ]
  },
  {
   "cell_type": "code",
   "execution_count": 3,
   "metadata": {
    "ExecuteTime": {
     "end_time": "2021-02-03T19:11:06.713203Z",
     "start_time": "2021-02-03T19:11:06.708858Z"
    }
   },
   "outputs": [],
   "source": [
    "x = np.genfromtxt('DataSet/ex1_x.csv', delimiter=',').reshape(-1, 1)\n",
    "z = np.genfromtxt('DataSet/ex1_z.csv', delimiter=',').reshape(-1, 1)"
   ]
  },
  {
   "cell_type": "code",
   "execution_count": 4,
   "metadata": {
    "deletable": false,
    "editable": false,
    "nbgrader": {
     "cell_type": "code",
     "checksum": "84956d109ad3ec88ff662c397bc08bd6",
     "grade": false,
     "grade_id": "cell-c6c2f4a002858d21",
     "locked": true,
     "schema_version": 3,
     "solution": false,
     "task": false
    }
   },
   "outputs": [],
   "source": [
    "assert x.shape in [(10, 1), (10,)]\n",
    "assert z.shape in [(10, 1), (10,)]"
   ]
  },
  {
   "cell_type": "markdown",
   "metadata": {
    "deletable": false,
    "editable": false,
    "nbgrader": {
     "cell_type": "markdown",
     "checksum": "784aa152017be616d831aff3cfdd9dad",
     "grade": false,
     "grade_id": "cell-1d1519c499be88e7",
     "locked": true,
     "schema_version": 3,
     "solution": false,
     "task": false
    }
   },
   "source": [
    "## 1.2 Concatenate a bias vector with $x$ as a new matrix $X$"
   ]
  },
  {
   "cell_type": "code",
   "execution_count": 5,
   "metadata": {
    "ExecuteTime": {
     "end_time": "2021-02-03T19:11:06.734749Z",
     "start_time": "2021-02-03T19:11:06.728356Z"
    }
   },
   "outputs": [
    {
     "data": {
      "text/plain": [
       "array([[ 1.,  1.],\n",
       "       [ 1.,  2.],\n",
       "       [ 1.,  3.],\n",
       "       [ 1.,  4.],\n",
       "       [ 1.,  5.],\n",
       "       [ 1.,  6.],\n",
       "       [ 1.,  7.],\n",
       "       [ 1.,  8.],\n",
       "       [ 1.,  9.],\n",
       "       [ 1., 10.]])"
      ]
     },
     "execution_count": 5,
     "metadata": {},
     "output_type": "execute_result"
    }
   ],
   "source": [
    "bias = np.ones((x.shape[0], 1))\n",
    "X = np.hstack((bias, x))\n",
    "X"
   ]
  },
  {
   "cell_type": "code",
   "execution_count": 6,
   "metadata": {
    "deletable": false,
    "editable": false,
    "nbgrader": {
     "cell_type": "code",
     "checksum": "79660a1523a77c12125609cf8b359a3b",
     "grade": false,
     "grade_id": "cell-92a4fb920d2d6904",
     "locked": true,
     "schema_version": 3,
     "solution": false,
     "task": false
    }
   },
   "outputs": [],
   "source": [
    "assert X.shape == (10, 2)"
   ]
  },
  {
   "cell_type": "markdown",
   "metadata": {
    "deletable": false,
    "editable": false,
    "nbgrader": {
     "cell_type": "markdown",
     "checksum": "01a116a0e52dc94955cb03610eed3612",
     "grade": false,
     "grade_id": "cell-4ffdc0c267530bc5",
     "locked": true,
     "schema_version": 3,
     "solution": false,
     "task": false
    }
   },
   "source": [
    "## 1.3 Find the Least-squares solution by using the following equation.\n",
    "\n",
    "$$\n",
    "\\hat{\\theta} = (X^TX)^{-1}X^Tz\n",
    "$$"
   ]
  },
  {
   "cell_type": "code",
   "execution_count": 7,
   "metadata": {
    "ExecuteTime": {
     "end_time": "2021-02-03T19:11:06.742196Z",
     "start_time": "2021-02-03T19:11:06.737181Z"
    }
   },
   "outputs": [
    {
     "data": {
      "text/plain": [
       "array([[ 3.48606   ],\n",
       "       [-1.17832036]])"
      ]
     },
     "execution_count": 7,
     "metadata": {},
     "output_type": "execute_result"
    }
   ],
   "source": [
    "theta = np.dot(np.dot(np.linalg.inv(np.dot(X.T, X)), X.T), z)\n",
    "theta"
   ]
  },
  {
   "cell_type": "markdown",
   "metadata": {
    "deletable": false,
    "editable": false,
    "nbgrader": {
     "cell_type": "markdown",
     "checksum": "1b47beff88d087c9f892688ffe77fefe",
     "grade": false,
     "grade_id": "cell-e984226b71b43935",
     "locked": true,
     "schema_version": 3,
     "solution": false,
     "task": false
    }
   },
   "source": [
    "## 1.4 Plot the Least-squares estimation of the function."
   ]
  },
  {
   "cell_type": "code",
   "execution_count": 8,
   "metadata": {
    "ExecuteTime": {
     "end_time": "2021-02-03T19:11:06.912249Z",
     "start_time": "2021-02-03T19:11:06.744440Z"
    }
   },
   "outputs": [
    {
     "data": {
      "text/plain": [
       "[<matplotlib.lines.Line2D at 0x7fdbd014efa0>]"
      ]
     },
     "execution_count": 8,
     "metadata": {},
     "output_type": "execute_result"
    },
    {
     "data": {
      "image/png": "[encoded data removed]",
      "text/plain": [
       "<Figure size 432x288 with 1 Axes>"
      ]
     },
     "metadata": {
      "needs_background": "light"
     },
     "output_type": "display_data"
    }
   ],
   "source": [
    "plt.scatter(x, z)\n",
    "plt.plot(x, np.dot(X, theta), 'r')"
   ]
  },
  {
   "cell_type": "markdown",
   "metadata": {
    "deletable": false,
    "editable": false,
    "nbgrader": {
     "cell_type": "markdown",
     "checksum": "112fc13ad982f99f301ce4a9e9bfb1a6",
     "grade": false,
     "grade_id": "cell-92911ce219aadf7b",
     "locked": true,
     "schema_version": 3,
     "solution": false,
     "task": false
    }
   },
   "source": [
    "## 1.5 Plot the true function with $\\theta = [3.75, -1.15]^T$"
   ]
  },
  {
   "cell_type": "code",
   "execution_count": 9,
   "metadata": {
    "ExecuteTime": {
     "end_time": "2021-02-03T19:11:06.918965Z",
     "start_time": "2021-02-03T19:11:06.916066Z"
    }
   },
   "outputs": [],
   "source": [
    "true_theta = np.array([\n",
    "    [3.75],\n",
    "    [-1.15]\n",
    "])"
   ]
  },
  {
   "cell_type": "code",
   "execution_count": 10,
   "metadata": {
    "ExecuteTime": {
     "end_time": "2021-02-03T19:11:07.066272Z",
     "start_time": "2021-02-03T19:11:06.921759Z"
    }
   },
   "outputs": [
    {
     "data": {
      "text/plain": [
       "[<matplotlib.lines.Line2D at 0x7fdbf2c93d60>]"
      ]
     },
     "execution_count": 10,
     "metadata": {},
     "output_type": "execute_result"
    },
    {
     "data": {
      "image/png": "[encoded data removed]",
      "text/plain": [
       "<Figure size 432x288 with 1 Axes>"
      ]
     },
     "metadata": {
      "needs_background": "light"
     },
     "output_type": "display_data"
    }
   ],
   "source": [
    "plt.scatter(x, z)\n",
    "plt.plot(x, np.dot(X, true_theta), 'orange')"
   ]
  },
  {
   "cell_type": "markdown",
   "metadata": {
    "deletable": false,
    "editable": false,
    "nbgrader": {
     "cell_type": "markdown",
     "checksum": "735a559ca443252e5ef38fed22a38d5a",
     "grade": false,
     "grade_id": "cell-b08c528bc780dab4",
     "locked": true,
     "schema_version": 3,
     "solution": false,
     "task": false
    }
   },
   "source": [
    "## 1.6 Plot the measured data."
   ]
  },
  {
   "cell_type": "code",
   "execution_count": 11,
   "metadata": {
    "ExecuteTime": {
     "end_time": "2021-02-03T19:11:07.232497Z",
     "start_time": "2021-02-03T19:11:07.068080Z"
    }
   },
   "outputs": [
    {
     "data": {
      "text/plain": [
       "<matplotlib.legend.Legend at 0x7fdbc0eaaee0>"
      ]
     },
     "execution_count": 11,
     "metadata": {},
     "output_type": "execute_result"
    },
    {
     "data": {
      "image/png": "[encoded data removed]",
      "text/plain": [
       "<Figure size 432x288 with 1 Axes>"
      ]
     },
     "metadata": {
      "needs_background": "light"
     },
     "output_type": "display_data"
    }
   ],
   "source": [
    "plt.scatter(x, z)\n",
    "plt.plot(x, np.dot(X, theta), label=\"Model\", color='r')\n",
    "plt.plot(x, np.dot(X, true_theta), label=\"True function\", color='orange')\n",
    "plt.legend()"
   ]
  },
  {
   "cell_type": "markdown",
   "metadata": {
    "deletable": false,
    "editable": false,
    "nbgrader": {
     "cell_type": "markdown",
     "checksum": "397dc55e295bc8212b2a383b4e38c9ec",
     "grade": false,
     "grade_id": "cell-2364aaf1176626bf",
     "locked": true,
     "schema_version": 3,
     "solution": false,
     "task": false
    }
   },
   "source": [
    "## 1.7 Observe and discuss the results in Question 4-6"
   ]
  },
  {
   "cell_type": "markdown",
   "metadata": {
    "deletable": false,
    "nbgrader": {
     "cell_type": "markdown",
     "checksum": "c828eb3c42e74e843dd26f58a97fae0d",
     "grade": true,
     "grade_id": "cell-f9a2caa5e6fae3f8",
     "locked": false,
     "points": 5,
     "schema_version": 3,
     "solution": true,
     "task": false
    }
   },
   "source": [
    "YOUR ANSWER HERE"
   ]
  },
  {
   "cell_type": "code",
   "execution_count": 12,
   "metadata": {},
   "outputs": [],
   "source": [
    "# Show comparison between model predicted data (Model) and real data added noisy (True function)"
   ]
  },
  {
   "cell_type": "markdown",
   "metadata": {
    "deletable": false,
    "editable": false,
    "nbgrader": {
     "cell_type": "markdown",
     "checksum": "f26558f3dd9ca10e91479c14d64dd75a",
     "grade": false,
     "grade_id": "cell-2f884ca47a407868",
     "locked": true,
     "schema_version": 3,
     "solution": false,
     "task": false
    }
   },
   "source": [
    "## 1.8 Find the Least-squares solution by using pseudo-inverse"
   ]
  },
  {
   "cell_type": "code",
   "execution_count": 13,
   "metadata": {
    "ExecuteTime": {
     "end_time": "2021-02-03T19:11:07.239852Z",
     "start_time": "2021-02-03T19:11:07.235010Z"
    }
   },
   "outputs": [
    {
     "data": {
      "text/plain": [
       "array([[ 3.48606   ],\n",
       "       [-1.17832036]])"
      ]
     },
     "execution_count": 13,
     "metadata": {},
     "output_type": "execute_result"
    }
   ],
   "source": [
    "theta = np.dot(np.linalg.pinv(X), z)\n",
    "theta"
   ]
  },
  {
   "cell_type": "markdown",
   "metadata": {
    "deletable": false,
    "editable": false,
    "nbgrader": {
     "cell_type": "markdown",
     "checksum": "5837d7b129d8730d3070be0bd537919d",
     "grade": false,
     "grade_id": "cell-a6636c4d81917761",
     "locked": true,
     "schema_version": 3,
     "solution": false,
     "task": false
    }
   },
   "source": [
    "## 1.9 Plot the Least-squares estimation of the function calculated by pseudo-inverse."
   ]
  },
  {
   "cell_type": "code",
   "execution_count": 14,
   "metadata": {
    "ExecuteTime": {
     "end_time": "2021-02-03T19:11:07.404124Z",
     "start_time": "2021-02-03T19:11:07.241668Z"
    }
   },
   "outputs": [
    {
     "data": {
      "text/plain": [
       "[<matplotlib.lines.Line2D at 0x7fdbf2d708b0>]"
      ]
     },
     "execution_count": 14,
     "metadata": {},
     "output_type": "execute_result"
    },
    {
     "data": {
      "image/png": "[encoded data removed]",
      "text/plain": [
       "<Figure size 432x288 with 1 Axes>"
      ]
     },
     "metadata": {
      "needs_background": "light"
     },
     "output_type": "display_data"
    }
   ],
   "source": [
    "plt.scatter(x, z)\n",
    "plt.plot(x, np.dot(X, theta), 'r')"
   ]
  },
  {
   "cell_type": "markdown",
   "metadata": {
    "deletable": false,
    "editable": false,
    "nbgrader": {
     "cell_type": "markdown",
     "checksum": "3910d00048a6234861ed28018c3e1d07",
     "grade": false,
     "grade_id": "cell-d7c6ca493b562c4a",
     "locked": true,
     "schema_version": 3,
     "solution": false,
     "task": false
    }
   },
   "source": [
    "## 1.10 Discuss on what you observe"
   ]
  },
  {
   "cell_type": "markdown",
   "metadata": {
    "deletable": false,
    "nbgrader": {
     "cell_type": "markdown",
     "checksum": "5095b2d9b10fe73c87b3fbd16ffe6e5a",
     "grade": true,
     "grade_id": "cell-f719531c23224f12",
     "locked": false,
     "points": 5,
     "schema_version": 3,
     "solution": true,
     "task": false
    }
   },
   "source": [
    "YOUR ANSWER HERE"
   ]
  },
  {
   "cell_type": "code",
   "execution_count": 15,
   "metadata": {},
   "outputs": [],
   "source": [
    "# Least-squares are calculated by the pseudo-inverse method and the normal inverse can give theta the same value"
   ]
  },
  {
   "cell_type": "markdown",
   "metadata": {
    "deletable": false,
    "editable": false,
    "nbgrader": {
     "cell_type": "markdown",
     "checksum": "712c0d72b6732c8a74ca1b4379e170b5",
     "grade": false,
     "grade_id": "cell-4af8c74ce135c679",
     "locked": true,
     "schema_version": 3,
     "solution": false,
     "task": false
    }
   },
   "source": [
    "# 2 Least-Squares - Multivariate Linear Regression"
   ]
  },
  {
   "cell_type": "markdown",
   "metadata": {
    "deletable": false,
    "editable": false,
    "nbgrader": {
     "cell_type": "markdown",
     "checksum": "47bf628344ac4723986b62519322da08",
     "grade": false,
     "grade_id": "cell-1747d91596bb14aa",
     "locked": true,
     "schema_version": 3,
     "solution": false,
     "task": false
    }
   },
   "source": [
    "After the first lab session, I believe that you all get to know the Boston Housing Dataset. Thus, I do not need to give you any explaination about the data. The dataset can be downloaded at https://bit.ly/2NBaO7e."
   ]
  },
  {
   "cell_type": "markdown",
   "metadata": {
    "deletable": false,
    "editable": false,
    "nbgrader": {
     "cell_type": "markdown",
     "checksum": "5550e779d06bae4ab67d9055dbf1fcd1",
     "grade": false,
     "grade_id": "cell-e1b5362491558294",
     "locked": true,
     "schema_version": 3,
     "solution": false,
     "task": false
    }
   },
   "source": [
    "## 2.1 Import dataset from `regression-datasets-housing.csv`"
   ]
  },
  {
   "cell_type": "code",
   "execution_count": 16,
   "metadata": {
    "ExecuteTime": {
     "end_time": "2021-02-03T19:11:07.415229Z",
     "start_time": "2021-02-03T19:11:07.405973Z"
    },
    "deletable": false,
    "nbgrader": {
     "cell_type": "code",
     "checksum": "0e37a551b6883b8c20eba55ae84e4ae8",
     "grade": false,
     "grade_id": "cell-2e6f82253ba1f4c0",
     "locked": false,
     "schema_version": 3,
     "solution": true,
     "task": false
    }
   },
   "outputs": [],
   "source": [
    "# YOUR CODE HERE\n",
    "data = np.genfromtxt('DataSet/regression-datasets-housing.csv', delimiter=',')\n",
    "column_num = np.arange(13)\n",
    "X = data[:, column_num]\n",
    "y = data[:, [13]]"
   ]
  },
  {
   "cell_type": "code",
   "execution_count": 17,
   "metadata": {
    "deletable": false,
    "editable": false,
    "nbgrader": {
     "cell_type": "code",
     "checksum": "6895bcc40a45b004adf9a2fcd3110b4c",
     "grade": false,
     "grade_id": "cell-6fdd2e85a6258fd4",
     "locked": true,
     "schema_version": 3,
     "solution": false,
     "task": false
    }
   },
   "outputs": [
    {
     "data": {
      "image/png": "[encoded data removed]",
      "text/plain": [
       "<Figure size 432x288 with 1 Axes>"
      ]
     },
     "metadata": {
      "needs_background": "light"
     },
     "output_type": "display_data"
    }
   ],
   "source": [
    "assert X.shape in [(506, 13)]\n",
    "assert y.shape in [(506, 1)]\n",
    "\n",
    "plt.scatter(np.arange(X.shape[0]), y);"
   ]
  },
  {
   "cell_type": "markdown",
   "metadata": {
    "deletable": false,
    "editable": false,
    "nbgrader": {
     "cell_type": "markdown",
     "checksum": "b211f1e988c6e88f35b60df6e86ecd06",
     "grade": false,
     "grade_id": "cell-83963e778a3f1e89",
     "locked": true,
     "schema_version": 3,
     "solution": false,
     "task": false
    }
   },
   "source": [
    "## 2.2 Find theta by using Gradient Descent Algorithm"
   ]
  },
  {
   "cell_type": "code",
   "execution_count": 18,
   "metadata": {
    "ExecuteTime": {
     "end_time": "2021-02-03T19:11:07.575761Z",
     "start_time": "2021-02-03T19:11:07.571194Z"
    },
    "deletable": false,
    "nbgrader": {
     "cell_type": "code",
     "checksum": "3d1d9c43015837a66e3f80633a8c0da9",
     "grade": false,
     "grade_id": "cell-61ddc17e93176874",
     "locked": false,
     "schema_version": 3,
     "solution": true,
     "task": false
    }
   },
   "outputs": [
    {
     "name": "stdout",
     "output_type": "stream",
     "text": [
      "-------------------- Before --------------------\n",
      "Column 1 Mean : 3.61, STD : 8.59\n",
      "Column 2 Mean : 11.35, STD : 23.29\n",
      "Column 3 Mean : 11.14, STD : 6.85\n",
      "Column 4 Mean : 0.07, STD : 0.25\n",
      "Column 5 Mean : 0.55, STD : 0.12\n",
      "Column 6 Mean : 6.28, STD : 0.70\n",
      "Column 7 Mean : 68.57, STD : 28.12\n",
      "Column 8 Mean : 3.80, STD : 2.10\n",
      "Column 9 Mean : 9.55, STD : 8.70\n",
      "Column 10 Mean : 408.24, STD : 168.37\n",
      "Column 11 Mean : 18.08, STD : 2.28\n",
      "Column 12 Mean : 356.67, STD : 91.20\n",
      "Column 13 Mean : 12.65, STD : 7.13\n",
      "--------------------- After ---------------------\n",
      "Column 1 Mean : -0.00, STD : 1.00\n",
      "Column 2 Mean : 0.00, STD : 1.00\n",
      "Column 3 Mean : 0.00, STD : 1.00\n",
      "Column 4 Mean : -0.00, STD : 1.00\n",
      "Column 5 Mean : -0.00, STD : 1.00\n",
      "Column 6 Mean : -0.00, STD : 1.00\n",
      "Column 7 Mean : -0.00, STD : 1.00\n",
      "Column 8 Mean : -0.00, STD : 1.00\n",
      "Column 9 Mean : -0.00, STD : 1.00\n",
      "Column 10 Mean : 0.00, STD : 1.00\n",
      "Column 11 Mean : -0.00, STD : 1.00\n",
      "Column 12 Mean : -0.00, STD : 1.00\n",
      "Column 13 Mean : -0.00, STD : 1.00\n"
     ]
    }
   ],
   "source": [
    "# YOUR CODE HERE\n",
    "\n",
    "\"\"\"Before\"\"\"\n",
    "print(\"-------------------- Before --------------------\")\n",
    "for i in range(13):\n",
    "    print(\"Column %d Mean : %.2f, STD : %.2f\" %(i+1, np.mean(X[:, [i]]), np.std(X[:, [i]])))\n",
    "\n",
    "\"\"\"Normalise this data\"\"\"\n",
    "for i in range(13):\n",
    "    mean = np.mean(X[:, [i]])\n",
    "    std = np.std(X[:, [i]])\n",
    "    X[:, [i]] = (X[:, [i]] - mean)/std\n",
    "\n",
    "\"\"\"After\"\"\"\n",
    "print(\"--------------------- After ---------------------\")\n",
    "for i in range(13):\n",
    "    print(\"Column %d Mean : %.2f, STD : %.2f\" %(i+1, np.mean(X[:, [i]]), np.std(X[:, [i]])))"
   ]
  },
  {
   "cell_type": "code",
   "execution_count": 19,
   "metadata": {
    "ExecuteTime": {
     "end_time": "2021-02-03T19:11:07.583497Z",
     "start_time": "2021-02-03T19:11:07.577948Z"
    },
    "deletable": false,
    "nbgrader": {
     "cell_type": "code",
     "checksum": "40cf4e941dec68d1c977365420af185c",
     "grade": false,
     "grade_id": "cell-45d13cf6302df92e",
     "locked": false,
     "schema_version": 3,
     "solution": true,
     "task": false
    }
   },
   "outputs": [],
   "source": [
    "# YOUR CODE HERE\n",
    "\"\"\"Add Bias\"\"\"\n",
    "bias = np.ones((X.shape[0], 1))\n",
    "X = np.hstack((bias, X))"
   ]
  },
  {
   "cell_type": "code",
   "execution_count": 20,
   "metadata": {
    "ExecuteTime": {
     "end_time": "2021-02-03T19:11:07.863158Z",
     "start_time": "2021-02-03T19:11:07.585336Z"
    },
    "deletable": false,
    "nbgrader": {
     "cell_type": "code",
     "checksum": "3cf155207df8e9191f4395ba86aaf2a8",
     "grade": false,
     "grade_id": "cell-816e99bd31b3b75a",
     "locked": false,
     "schema_version": 3,
     "solution": true,
     "task": false
    }
   },
   "outputs": [],
   "source": [
    "# YOUR CODE HERE\n",
    "\"\"\"Cost Function\"\"\"\n",
    "def computeCostFunction(X, y, theta):\n",
    "    hx = np.dot(X, theta)\n",
    "    n = X.shape[0]\n",
    "    return (1/(2*n))*np.sum((hx - y)**2)\n",
    "\n",
    "\"\"\"Gradient Descent Function\"\"\"\n",
    "def gradientDescent(X, y, theta, alpha, n_iteration):\n",
    "    j_history = []\n",
    "    theta_history = []\n",
    "    n = X.shape[0]\n",
    "    \n",
    "    for i in range(n_iteration):\n",
    "        prediction = np.dot(X, theta)\n",
    "        loss = computeCostFunction(X, y, theta)\n",
    "        \n",
    "        # Calculate gradient descent\n",
    "        gradient = X.T.dot(prediction - y) * (1/n)\n",
    "        theta = theta - alpha * gradient\n",
    "        \n",
    "        print(\"Iteration %d: %f (loss)\" %(i+1, loss))\n",
    "        j_history.append(loss)\n",
    "        theta_history.append(theta)\n",
    "    \n",
    "    print(\"Theta 0 : %f, Theta 1 : %f\" %(theta[0], theta[1]))\n",
    "    return theta_history, j_history"
   ]
  },
  {
   "cell_type": "code",
   "execution_count": 21,
   "metadata": {
    "ExecuteTime": {
     "end_time": "2021-02-03T19:11:07.868884Z",
     "start_time": "2021-02-03T19:11:07.865205Z"
    },
    "deletable": false,
    "nbgrader": {
     "cell_type": "code",
     "checksum": "d6bbc5491965a88f86bbe34a19253df4",
     "grade": false,
     "grade_id": "cell-9bd1eda9f5bac2bd",
     "locked": false,
     "schema_version": 3,
     "solution": true,
     "task": false
    }
   },
   "outputs": [
    {
     "name": "stdout",
     "output_type": "stream",
     "text": [
      "Iteration 1: 296.073458 (loss)\n",
      "Iteration 2: 231.257849 (loss)\n",
      "Iteration 3: 187.751607 (loss)\n",
      "Iteration 4: 153.919005 (loss)\n",
      "Iteration 5: 126.773084 (loss)\n",
      "Iteration 6: 104.858139 (loss)\n",
      "Iteration 7: 87.142241 (loss)\n",
      "Iteration 8: 72.814182 (loss)\n",
      "Iteration 9: 61.222591 (loss)\n",
      "Iteration 10: 51.842220 (loss)\n",
      "Iteration 11: 44.249099 (loss)\n",
      "Iteration 12: 38.100866 (loss)\n",
      "Iteration 13: 33.120990 (loss)\n",
      "Iteration 14: 29.086054 (loss)\n",
      "Iteration 15: 25.815517 (loss)\n",
      "Iteration 16: 23.163455 (loss)\n",
      "Iteration 17: 21.011898 (loss)\n",
      "Iteration 18: 19.265462 (loss)\n",
      "Iteration 19: 17.847007 (loss)\n",
      "Iteration 20: 16.694137 (loss)\n",
      "Iteration 21: 15.756377 (loss)\n",
      "Iteration 22: 14.992885 (loss)\n",
      "Iteration 23: 14.370612 (loss)\n",
      "Iteration 24: 13.862808 (loss)\n",
      "Iteration 25: 13.447819 (loss)\n",
      "Iteration 26: 13.108113 (loss)\n",
      "Iteration 27: 12.829496 (loss)\n",
      "Iteration 28: 12.600470 (loss)\n",
      "Iteration 29: 12.411722 (loss)\n",
      "Iteration 30: 12.255708 (loss)\n",
      "Iteration 31: 12.126314 (loss)\n",
      "Iteration 32: 12.018585 (loss)\n",
      "Iteration 33: 11.928504 (loss)\n",
      "Iteration 34: 11.852813 (loss)\n",
      "Iteration 35: 11.788870 (loss)\n",
      "Iteration 36: 11.734533 (loss)\n",
      "Iteration 37: 11.688060 (loss)\n",
      "Iteration 38: 11.648039 (loss)\n",
      "Iteration 39: 11.613323 (loss)\n",
      "Iteration 40: 11.582979 (loss)\n",
      "Iteration 41: 11.556247 (loss)\n",
      "Iteration 42: 11.532511 (loss)\n",
      "Iteration 43: 11.511267 (loss)\n",
      "Iteration 44: 11.492107 (loss)\n",
      "Iteration 45: 11.474694 (loss)\n",
      "Iteration 46: 11.458756 (loss)\n",
      "Iteration 47: 11.444070 (loss)\n",
      "Iteration 48: 11.430450 (loss)\n",
      "Iteration 49: 11.417748 (loss)\n",
      "Iteration 50: 11.405839 (loss)\n",
      "Iteration 51: 11.394621 (loss)\n",
      "Iteration 52: 11.384008 (loss)\n",
      "Iteration 53: 11.373932 (loss)\n",
      "Iteration 54: 11.364333 (loss)\n",
      "Iteration 55: 11.355163 (loss)\n",
      "Iteration 56: 11.346380 (loss)\n",
      "Iteration 57: 11.337949 (loss)\n",
      "Iteration 58: 11.329841 (loss)\n",
      "Iteration 59: 11.322032 (loss)\n",
      "Iteration 60: 11.314498 (loss)\n",
      "Iteration 61: 11.307222 (loss)\n",
      "Iteration 62: 11.300188 (loss)\n",
      "Iteration 63: 11.293380 (loss)\n",
      "Iteration 64: 11.286786 (loss)\n",
      "Iteration 65: 11.280395 (loss)\n",
      "Iteration 66: 11.274197 (loss)\n",
      "Iteration 67: 11.268183 (loss)\n",
      "Iteration 68: 11.262344 (loss)\n",
      "Iteration 69: 11.256673 (loss)\n",
      "Iteration 70: 11.251163 (loss)\n",
      "Iteration 71: 11.245807 (loss)\n",
      "Iteration 72: 11.240600 (loss)\n",
      "Iteration 73: 11.235535 (loss)\n",
      "Iteration 74: 11.230608 (loss)\n",
      "Iteration 75: 11.225814 (loss)\n",
      "Iteration 76: 11.221147 (loss)\n",
      "Iteration 77: 11.216604 (loss)\n",
      "Iteration 78: 11.212180 (loss)\n",
      "Iteration 79: 11.207872 (loss)\n",
      "Iteration 80: 11.203675 (loss)\n",
      "Iteration 81: 11.199586 (loss)\n",
      "Iteration 82: 11.195601 (loss)\n",
      "Iteration 83: 11.191717 (loss)\n",
      "Iteration 84: 11.187931 (loss)\n",
      "Iteration 85: 11.184239 (loss)\n",
      "Iteration 86: 11.180640 (loss)\n",
      "Iteration 87: 11.177129 (loss)\n",
      "Iteration 88: 11.173704 (loss)\n",
      "Iteration 89: 11.170363 (loss)\n",
      "Iteration 90: 11.167103 (loss)\n",
      "Iteration 91: 11.163921 (loss)\n",
      "Iteration 92: 11.160816 (loss)\n",
      "Iteration 93: 11.157784 (loss)\n",
      "Iteration 94: 11.154824 (loss)\n",
      "Iteration 95: 11.151934 (loss)\n",
      "Iteration 96: 11.149111 (loss)\n",
      "Iteration 97: 11.146354 (loss)\n",
      "Iteration 98: 11.143661 (loss)\n",
      "Iteration 99: 11.141029 (loss)\n",
      "Iteration 100: 11.138457 (loss)\n",
      "Iteration 101: 11.135944 (loss)\n",
      "Iteration 102: 11.133487 (loss)\n",
      "Iteration 103: 11.131086 (loss)\n",
      "Iteration 104: 11.128738 (loss)\n",
      "Iteration 105: 11.126441 (loss)\n",
      "Iteration 106: 11.124196 (loss)\n",
      "Iteration 107: 11.121999 (loss)\n",
      "Iteration 108: 11.119851 (loss)\n",
      "Iteration 109: 11.117748 (loss)\n",
      "Iteration 110: 11.115691 (loss)\n",
      "Iteration 111: 11.113678 (loss)\n",
      "Iteration 112: 11.111707 (loss)\n",
      "Iteration 113: 11.109779 (loss)\n",
      "Iteration 114: 11.107890 (loss)\n",
      "Iteration 115: 11.106041 (loss)\n",
      "Iteration 116: 11.104231 (loss)\n",
      "Iteration 117: 11.102457 (loss)\n",
      "Iteration 118: 11.100720 (loss)\n",
      "Iteration 119: 11.099019 (loss)\n",
      "Iteration 120: 11.097352 (loss)\n",
      "Iteration 121: 11.095718 (loss)\n",
      "Iteration 122: 11.094118 (loss)\n",
      "Iteration 123: 11.092549 (loss)\n",
      "Iteration 124: 11.091011 (loss)\n",
      "Iteration 125: 11.089503 (loss)\n",
      "Iteration 126: 11.088025 (loss)\n",
      "Iteration 127: 11.086576 (loss)\n",
      "Iteration 128: 11.085155 (loss)\n",
      "Iteration 129: 11.083761 (loss)\n",
      "Iteration 130: 11.082394 (loss)\n",
      "Iteration 131: 11.081053 (loss)\n",
      "Iteration 132: 11.079737 (loss)\n",
      "Iteration 133: 11.078446 (loss)\n",
      "Iteration 134: 11.077179 (loss)\n",
      "Iteration 135: 11.075936 (loss)\n",
      "Iteration 136: 11.074715 (loss)\n",
      "Iteration 137: 11.073518 (loss)\n",
      "Iteration 138: 11.072342 (loss)\n",
      "Iteration 139: 11.071188 (loss)\n",
      "Iteration 140: 11.070054 (loss)\n",
      "Iteration 141: 11.068941 (loss)\n",
      "Iteration 142: 11.067848 (loss)\n",
      "Iteration 143: 11.066775 (loss)\n",
      "Iteration 144: 11.065720 (loss)\n",
      "Iteration 145: 11.064684 (loss)\n",
      "Iteration 146: 11.063667 (loss)\n",
      "Iteration 147: 11.062667 (loss)\n",
      "Iteration 148: 11.061684 (loss)\n",
      "Iteration 149: 11.060719 (loss)\n",
      "Iteration 150: 11.059770 (loss)\n",
      "Iteration 151: 11.058838 (loss)\n",
      "Iteration 152: 11.057921 (loss)\n",
      "Iteration 153: 11.057020 (loss)\n",
      "Iteration 154: 11.056134 (loss)\n",
      "Iteration 155: 11.055264 (loss)\n",
      "Iteration 156: 11.054407 (loss)\n",
      "Iteration 157: 11.053565 (loss)\n",
      "Iteration 158: 11.052737 (loss)\n",
      "Iteration 159: 11.051923 (loss)\n",
      "Iteration 160: 11.051122 (loss)\n",
      "Iteration 161: 11.050335 (loss)\n",
      "Iteration 162: 11.049560 (loss)\n",
      "Iteration 163: 11.048797 (loss)\n",
      "Iteration 164: 11.048047 (loss)\n",
      "Iteration 165: 11.047309 (loss)\n",
      "Iteration 166: 11.046583 (loss)\n",
      "Iteration 167: 11.045869 (loss)\n",
      "Iteration 168: 11.045166 (loss)\n",
      "Iteration 169: 11.044474 (loss)\n",
      "Iteration 170: 11.043793 (loss)\n",
      "Iteration 171: 11.043123 (loss)\n",
      "Iteration 172: 11.042463 (loss)\n",
      "Iteration 173: 11.041813 (loss)\n",
      "Iteration 174: 11.041174 (loss)\n",
      "Iteration 175: 11.040544 (loss)\n",
      "Iteration 176: 11.039925 (loss)\n",
      "Iteration 177: 11.039315 (loss)\n",
      "Iteration 178: 11.038714 (loss)\n",
      "Iteration 179: 11.038122 (loss)\n",
      "Iteration 180: 11.037539 (loss)\n",
      "Iteration 181: 11.036965 (loss)\n",
      "Iteration 182: 11.036400 (loss)\n",
      "Iteration 183: 11.035844 (loss)\n",
      "Iteration 184: 11.035295 (loss)\n",
      "Iteration 185: 11.034755 (loss)\n",
      "Iteration 186: 11.034223 (loss)\n",
      "Iteration 187: 11.033699 (loss)\n",
      "Iteration 188: 11.033183 (loss)\n",
      "Iteration 189: 11.032674 (loss)\n",
      "Iteration 190: 11.032173 (loss)\n",
      "Iteration 191: 11.031679 (loss)\n",
      "Iteration 192: 11.031193 (loss)\n",
      "Iteration 193: 11.030713 (loss)\n",
      "Iteration 194: 11.030241 (loss)\n",
      "Iteration 195: 11.029775 (loss)\n",
      "Iteration 196: 11.029317 (loss)\n",
      "Iteration 197: 11.028864 (loss)\n",
      "Iteration 198: 11.028419 (loss)\n",
      "Iteration 199: 11.027980 (loss)\n",
      "Iteration 200: 11.027547 (loss)\n",
      "Iteration 201: 11.027120 (loss)\n",
      "Iteration 202: 11.026699 (loss)\n",
      "Iteration 203: 11.026285 (loss)\n",
      "Iteration 204: 11.025876 (loss)\n",
      "Iteration 205: 11.025473 (loss)\n",
      "Iteration 206: 11.025076 (loss)\n",
      "Iteration 207: 11.024684 (loss)\n",
      "Iteration 208: 11.024298 (loss)\n",
      "Iteration 209: 11.023917 (loss)\n",
      "Iteration 210: 11.023542 (loss)\n",
      "Iteration 211: 11.023172 (loss)\n",
      "Iteration 212: 11.022807 (loss)\n",
      "Iteration 213: 11.022447 (loss)\n",
      "Iteration 214: 11.022092 (loss)\n",
      "Iteration 215: 11.021742 (loss)\n",
      "Iteration 216: 11.021397 (loss)\n",
      "Iteration 217: 11.021057 (loss)\n",
      "Iteration 218: 11.020721 (loss)\n",
      "Iteration 219: 11.020390 (loss)\n",
      "Iteration 220: 11.020064 (loss)\n",
      "Iteration 221: 11.019742 (loss)\n",
      "Iteration 222: 11.019424 (loss)\n",
      "Iteration 223: 11.019111 (loss)\n",
      "Iteration 224: 11.018802 (loss)\n",
      "Iteration 225: 11.018498 (loss)\n",
      "Iteration 226: 11.018197 (loss)\n",
      "Iteration 227: 11.017901 (loss)\n",
      "Iteration 228: 11.017608 (loss)\n",
      "Iteration 229: 11.017320 (loss)\n",
      "Iteration 230: 11.017035 (loss)\n",
      "Iteration 231: 11.016755 (loss)\n",
      "Iteration 232: 11.016478 (loss)\n",
      "Iteration 233: 11.016205 (loss)\n",
      "Iteration 234: 11.015935 (loss)\n",
      "Iteration 235: 11.015669 (loss)\n",
      "Iteration 236: 11.015407 (loss)\n",
      "Iteration 237: 11.015148 (loss)\n",
      "Iteration 238: 11.014893 (loss)\n",
      "Iteration 239: 11.014641 (loss)\n",
      "Iteration 240: 11.014393 (loss)\n",
      "Iteration 241: 11.014147 (loss)\n",
      "Iteration 242: 11.013905 (loss)\n",
      "Iteration 243: 11.013667 (loss)\n",
      "Iteration 244: 11.013431 (loss)\n",
      "Iteration 245: 11.013199 (loss)\n",
      "Iteration 246: 11.012969 (loss)\n",
      "Iteration 247: 11.012743 (loss)\n",
      "Iteration 248: 11.012520 (loss)\n",
      "Iteration 249: 11.012300 (loss)\n",
      "Iteration 250: 11.012082 (loss)\n",
      "Iteration 251: 11.011868 (loss)\n",
      "Iteration 252: 11.011656 (loss)\n",
      "Iteration 253: 11.011447 (loss)\n",
      "Iteration 254: 11.011241 (loss)\n",
      "Iteration 255: 11.011037 (loss)\n",
      "Iteration 256: 11.010836 (loss)\n",
      "Iteration 257: 11.010638 (loss)\n",
      "Iteration 258: 11.010443 (loss)\n",
      "Iteration 259: 11.010250 (loss)\n",
      "Iteration 260: 11.010059 (loss)\n",
      "Iteration 261: 11.009871 (loss)\n",
      "Iteration 262: 11.009686 (loss)\n",
      "Iteration 263: 11.009503 (loss)\n",
      "Iteration 264: 11.009322 (loss)\n",
      "Iteration 265: 11.009144 (loss)\n",
      "Iteration 266: 11.008968 (loss)\n",
      "Iteration 267: 11.008794 (loss)\n",
      "Iteration 268: 11.008623 (loss)\n",
      "Iteration 269: 11.008453 (loss)\n",
      "Iteration 270: 11.008286 (loss)\n",
      "Iteration 271: 11.008121 (loss)\n",
      "Iteration 272: 11.007959 (loss)\n",
      "Iteration 273: 11.007798 (loss)\n",
      "Iteration 274: 11.007640 (loss)\n",
      "Iteration 275: 11.007483 (loss)\n",
      "Iteration 276: 11.007329 (loss)\n",
      "Iteration 277: 11.007176 (loss)\n",
      "Iteration 278: 11.007026 (loss)\n",
      "Iteration 279: 11.006877 (loss)\n",
      "Iteration 280: 11.006731 (loss)\n",
      "Iteration 281: 11.006586 (loss)\n",
      "Iteration 282: 11.006443 (loss)\n",
      "Iteration 283: 11.006302 (loss)\n",
      "Iteration 284: 11.006163 (loss)\n",
      "Iteration 285: 11.006026 (loss)\n",
      "Iteration 286: 11.005890 (loss)\n",
      "Iteration 287: 11.005756 (loss)\n",
      "Iteration 288: 11.005624 (loss)\n",
      "Iteration 289: 11.005494 (loss)\n",
      "Iteration 290: 11.005365 (loss)\n",
      "Iteration 291: 11.005238 (loss)\n",
      "Iteration 292: 11.005112 (loss)\n",
      "Iteration 293: 11.004988 (loss)\n",
      "Iteration 294: 11.004866 (loss)\n",
      "Iteration 295: 11.004745 (loss)\n",
      "Iteration 296: 11.004626 (loss)\n",
      "Iteration 297: 11.004509 (loss)\n",
      "Iteration 298: 11.004393 (loss)\n",
      "Iteration 299: 11.004278 (loss)\n",
      "Iteration 300: 11.004165 (loss)\n",
      "Iteration 301: 11.004053 (loss)\n",
      "Iteration 302: 11.003943 (loss)\n",
      "Iteration 303: 11.003834 (loss)\n",
      "Iteration 304: 11.003727 (loss)\n",
      "Iteration 305: 11.003620 (loss)\n",
      "Iteration 306: 11.003516 (loss)\n",
      "Iteration 307: 11.003412 (loss)\n",
      "Iteration 308: 11.003310 (loss)\n",
      "Iteration 309: 11.003210 (loss)\n",
      "Iteration 310: 11.003110 (loss)\n",
      "Iteration 311: 11.003012 (loss)\n",
      "Iteration 312: 11.002915 (loss)\n",
      "Iteration 313: 11.002819 (loss)\n",
      "Iteration 314: 11.002725 (loss)\n",
      "Iteration 315: 11.002631 (loss)\n",
      "Iteration 316: 11.002539 (loss)\n",
      "Iteration 317: 11.002448 (loss)\n",
      "Iteration 318: 11.002359 (loss)\n",
      "Iteration 319: 11.002270 (loss)\n",
      "Iteration 320: 11.002183 (loss)\n",
      "Iteration 321: 11.002096 (loss)\n",
      "Iteration 322: 11.002011 (loss)\n",
      "Iteration 323: 11.001927 (loss)\n",
      "Iteration 324: 11.001844 (loss)\n",
      "Iteration 325: 11.001762 (loss)\n",
      "Iteration 326: 11.001681 (loss)\n",
      "Iteration 327: 11.001601 (loss)\n",
      "Iteration 328: 11.001522 (loss)\n",
      "Iteration 329: 11.001444 (loss)\n",
      "Iteration 330: 11.001367 (loss)\n",
      "Iteration 331: 11.001291 (loss)\n",
      "Iteration 332: 11.001216 (loss)\n",
      "Iteration 333: 11.001142 (loss)\n",
      "Iteration 334: 11.001069 (loss)\n",
      "Iteration 335: 11.000996 (loss)\n",
      "Iteration 336: 11.000925 (loss)\n",
      "Iteration 337: 11.000855 (loss)\n",
      "Iteration 338: 11.000785 (loss)\n",
      "Iteration 339: 11.000717 (loss)\n",
      "Iteration 340: 11.000649 (loss)\n",
      "Iteration 341: 11.000582 (loss)\n",
      "Iteration 342: 11.000516 (loss)\n",
      "Iteration 343: 11.000451 (loss)\n",
      "Iteration 344: 11.000386 (loss)\n",
      "Iteration 345: 11.000323 (loss)\n",
      "Iteration 346: 11.000260 (loss)\n",
      "Iteration 347: 11.000198 (loss)\n",
      "Iteration 348: 11.000137 (loss)\n",
      "Iteration 349: 11.000077 (loss)\n",
      "Iteration 350: 11.000017 (loss)\n",
      "Iteration 351: 10.999958 (loss)\n",
      "Iteration 352: 10.999900 (loss)\n",
      "Iteration 353: 10.999843 (loss)\n",
      "Iteration 354: 10.999786 (loss)\n",
      "Iteration 355: 10.999730 (loss)\n",
      "Iteration 356: 10.999675 (loss)\n",
      "Iteration 357: 10.999621 (loss)\n",
      "Iteration 358: 10.999567 (loss)\n",
      "Iteration 359: 10.999514 (loss)\n",
      "Iteration 360: 10.999461 (loss)\n",
      "Iteration 361: 10.999409 (loss)\n",
      "Iteration 362: 10.999358 (loss)\n",
      "Iteration 363: 10.999308 (loss)\n",
      "Iteration 364: 10.999258 (loss)\n",
      "Iteration 365: 10.999209 (loss)\n",
      "Iteration 366: 10.999160 (loss)\n",
      "Iteration 367: 10.999112 (loss)\n",
      "Iteration 368: 10.999065 (loss)\n",
      "Iteration 369: 10.999018 (loss)\n",
      "Iteration 370: 10.998972 (loss)\n",
      "Iteration 371: 10.998926 (loss)\n",
      "Iteration 372: 10.998881 (loss)\n",
      "Iteration 373: 10.998837 (loss)\n",
      "Iteration 374: 10.998793 (loss)\n",
      "Iteration 375: 10.998749 (loss)\n",
      "Iteration 376: 10.998707 (loss)\n",
      "Iteration 377: 10.998664 (loss)\n",
      "Iteration 378: 10.998623 (loss)\n",
      "Iteration 379: 10.998581 (loss)\n",
      "Iteration 380: 10.998541 (loss)\n",
      "Iteration 381: 10.998501 (loss)\n",
      "Iteration 382: 10.998461 (loss)\n",
      "Iteration 383: 10.998422 (loss)\n",
      "Iteration 384: 10.998383 (loss)\n",
      "Iteration 385: 10.998345 (loss)\n",
      "Iteration 386: 10.998307 (loss)\n",
      "Iteration 387: 10.998270 (loss)\n",
      "Iteration 388: 10.998234 (loss)\n",
      "Iteration 389: 10.998197 (loss)\n",
      "Iteration 390: 10.998161 (loss)\n",
      "Iteration 391: 10.998126 (loss)\n",
      "Iteration 392: 10.998091 (loss)\n",
      "Iteration 393: 10.998057 (loss)\n",
      "Iteration 394: 10.998023 (loss)\n",
      "Iteration 395: 10.997989 (loss)\n",
      "Iteration 396: 10.997956 (loss)\n",
      "Iteration 397: 10.997923 (loss)\n",
      "Iteration 398: 10.997891 (loss)\n",
      "Iteration 399: 10.997859 (loss)\n",
      "Iteration 400: 10.997827 (loss)\n",
      "Iteration 401: 10.997796 (loss)\n",
      "Iteration 402: 10.997766 (loss)\n",
      "Iteration 403: 10.997735 (loss)\n",
      "Iteration 404: 10.997705 (loss)\n",
      "Iteration 405: 10.997676 (loss)\n",
      "Iteration 406: 10.997646 (loss)\n",
      "Iteration 407: 10.997618 (loss)\n",
      "Iteration 408: 10.997589 (loss)\n",
      "Iteration 409: 10.997561 (loss)\n",
      "Iteration 410: 10.997533 (loss)\n",
      "Iteration 411: 10.997506 (loss)\n",
      "Iteration 412: 10.997479 (loss)\n",
      "Iteration 413: 10.997452 (loss)\n",
      "Iteration 414: 10.997426 (loss)\n",
      "Iteration 415: 10.997400 (loss)\n",
      "Iteration 416: 10.997374 (loss)\n",
      "Iteration 417: 10.997348 (loss)\n",
      "Iteration 418: 10.997323 (loss)\n",
      "Iteration 419: 10.997299 (loss)\n",
      "Iteration 420: 10.997274 (loss)\n",
      "Iteration 421: 10.997250 (loss)\n",
      "Iteration 422: 10.997226 (loss)\n",
      "Iteration 423: 10.997203 (loss)\n",
      "Iteration 424: 10.997179 (loss)\n",
      "Iteration 425: 10.997156 (loss)\n",
      "Iteration 426: 10.997134 (loss)\n",
      "Iteration 427: 10.997111 (loss)\n",
      "Iteration 428: 10.997089 (loss)\n",
      "Iteration 429: 10.997068 (loss)\n",
      "Iteration 430: 10.997046 (loss)\n",
      "Iteration 431: 10.997025 (loss)\n",
      "Iteration 432: 10.997004 (loss)\n",
      "Iteration 433: 10.996983 (loss)\n",
      "Iteration 434: 10.996963 (loss)\n",
      "Iteration 435: 10.996942 (loss)\n",
      "Iteration 436: 10.996922 (loss)\n",
      "Iteration 437: 10.996903 (loss)\n",
      "Iteration 438: 10.996883 (loss)\n",
      "Iteration 439: 10.996864 (loss)\n",
      "Iteration 440: 10.996845 (loss)\n",
      "Iteration 441: 10.996826 (loss)\n",
      "Iteration 442: 10.996808 (loss)\n",
      "Iteration 443: 10.996790 (loss)\n",
      "Iteration 444: 10.996772 (loss)\n",
      "Iteration 445: 10.996754 (loss)\n",
      "Iteration 446: 10.996736 (loss)\n",
      "Iteration 447: 10.996719 (loss)\n",
      "Iteration 448: 10.996702 (loss)\n",
      "Iteration 449: 10.996685 (loss)\n",
      "Iteration 450: 10.996668 (loss)\n",
      "Iteration 451: 10.996652 (loss)\n",
      "Iteration 452: 10.996635 (loss)\n",
      "Iteration 453: 10.996619 (loss)\n",
      "Iteration 454: 10.996603 (loss)\n",
      "Iteration 455: 10.996588 (loss)\n",
      "Iteration 456: 10.996572 (loss)\n",
      "Iteration 457: 10.996557 (loss)\n",
      "Iteration 458: 10.996542 (loss)\n",
      "Iteration 459: 10.996527 (loss)\n",
      "Iteration 460: 10.996512 (loss)\n",
      "Iteration 461: 10.996498 (loss)\n",
      "Iteration 462: 10.996484 (loss)\n",
      "Iteration 463: 10.996469 (loss)\n",
      "Iteration 464: 10.996455 (loss)\n",
      "Iteration 465: 10.996442 (loss)\n",
      "Iteration 466: 10.996428 (loss)\n",
      "Iteration 467: 10.996415 (loss)\n",
      "Iteration 468: 10.996401 (loss)\n",
      "Iteration 469: 10.996388 (loss)\n",
      "Iteration 470: 10.996375 (loss)\n",
      "Iteration 471: 10.996362 (loss)\n",
      "Iteration 472: 10.996350 (loss)\n",
      "Iteration 473: 10.996337 (loss)\n",
      "Iteration 474: 10.996325 (loss)\n",
      "Iteration 475: 10.996313 (loss)\n",
      "Iteration 476: 10.996301 (loss)\n",
      "Iteration 477: 10.996289 (loss)\n",
      "Iteration 478: 10.996277 (loss)\n",
      "Iteration 479: 10.996266 (loss)\n",
      "Iteration 480: 10.996254 (loss)\n",
      "Iteration 481: 10.996243 (loss)\n",
      "Iteration 482: 10.996232 (loss)\n",
      "Iteration 483: 10.996221 (loss)\n",
      "Iteration 484: 10.996210 (loss)\n",
      "Iteration 485: 10.996199 (loss)\n",
      "Iteration 486: 10.996189 (loss)\n",
      "Iteration 487: 10.996178 (loss)\n",
      "Iteration 488: 10.996168 (loss)\n",
      "Iteration 489: 10.996158 (loss)\n",
      "Iteration 490: 10.996148 (loss)\n",
      "Iteration 491: 10.996138 (loss)\n",
      "Iteration 492: 10.996128 (loss)\n",
      "Iteration 493: 10.996118 (loss)\n",
      "Iteration 494: 10.996109 (loss)\n",
      "Iteration 495: 10.996099 (loss)\n",
      "Iteration 496: 10.996090 (loss)\n",
      "Iteration 497: 10.996081 (loss)\n",
      "Iteration 498: 10.996072 (loss)\n",
      "Iteration 499: 10.996063 (loss)\n",
      "Iteration 500: 10.996054 (loss)\n",
      "Iteration 501: 10.996045 (loss)\n",
      "Iteration 502: 10.996037 (loss)\n",
      "Iteration 503: 10.996028 (loss)\n",
      "Iteration 504: 10.996020 (loss)\n",
      "Iteration 505: 10.996011 (loss)\n",
      "Iteration 506: 10.996003 (loss)\n",
      "Iteration 507: 10.995995 (loss)\n",
      "Iteration 508: 10.995987 (loss)\n",
      "Iteration 509: 10.995979 (loss)\n",
      "Iteration 510: 10.995972 (loss)\n",
      "Iteration 511: 10.995964 (loss)\n",
      "Iteration 512: 10.995956 (loss)\n",
      "Iteration 513: 10.995949 (loss)\n",
      "Iteration 514: 10.995941 (loss)\n",
      "Iteration 515: 10.995934 (loss)\n",
      "Iteration 516: 10.995927 (loss)\n",
      "Iteration 517: 10.995920 (loss)\n",
      "Iteration 518: 10.995913 (loss)\n",
      "Iteration 519: 10.995906 (loss)\n",
      "Iteration 520: 10.995899 (loss)\n",
      "Iteration 521: 10.995892 (loss)\n",
      "Iteration 522: 10.995885 (loss)\n",
      "Iteration 523: 10.995879 (loss)\n",
      "Iteration 524: 10.995872 (loss)\n",
      "Iteration 525: 10.995866 (loss)\n",
      "Iteration 526: 10.995859 (loss)\n",
      "Iteration 527: 10.995853 (loss)\n",
      "Iteration 528: 10.995847 (loss)\n",
      "Iteration 529: 10.995841 (loss)\n",
      "Iteration 530: 10.995835 (loss)\n",
      "Iteration 531: 10.995829 (loss)\n",
      "Iteration 532: 10.995823 (loss)\n",
      "Iteration 533: 10.995817 (loss)\n",
      "Iteration 534: 10.995811 (loss)\n",
      "Iteration 535: 10.995806 (loss)\n",
      "Iteration 536: 10.995800 (loss)\n",
      "Iteration 537: 10.995794 (loss)\n",
      "Iteration 538: 10.995789 (loss)\n",
      "Iteration 539: 10.995784 (loss)\n",
      "Iteration 540: 10.995778 (loss)\n",
      "Iteration 541: 10.995773 (loss)\n",
      "Iteration 542: 10.995768 (loss)\n",
      "Iteration 543: 10.995763 (loss)\n",
      "Iteration 544: 10.995758 (loss)\n",
      "Iteration 545: 10.995753 (loss)\n",
      "Iteration 546: 10.995748 (loss)\n",
      "Iteration 547: 10.995743 (loss)\n",
      "Iteration 548: 10.995738 (loss)\n",
      "Iteration 549: 10.995733 (loss)\n",
      "Iteration 550: 10.995729 (loss)\n",
      "Iteration 551: 10.995724 (loss)\n",
      "Iteration 552: 10.995719 (loss)\n",
      "Iteration 553: 10.995715 (loss)\n",
      "Iteration 554: 10.995710 (loss)\n",
      "Iteration 555: 10.995706 (loss)\n",
      "Iteration 556: 10.995702 (loss)\n",
      "Iteration 557: 10.995697 (loss)\n",
      "Iteration 558: 10.995693 (loss)\n",
      "Iteration 559: 10.995689 (loss)\n",
      "Iteration 560: 10.995685 (loss)\n",
      "Iteration 561: 10.995681 (loss)\n",
      "Iteration 562: 10.995677 (loss)\n",
      "Iteration 563: 10.995673 (loss)\n",
      "Iteration 564: 10.995669 (loss)\n",
      "Iteration 565: 10.995665 (loss)\n",
      "Iteration 566: 10.995661 (loss)\n",
      "Iteration 567: 10.995657 (loss)\n",
      "Iteration 568: 10.995654 (loss)\n",
      "Iteration 569: 10.995650 (loss)\n",
      "Iteration 570: 10.995646 (loss)\n",
      "Iteration 571: 10.995643 (loss)\n",
      "Iteration 572: 10.995639 (loss)\n",
      "Iteration 573: 10.995636 (loss)\n",
      "Iteration 574: 10.995632 (loss)\n",
      "Iteration 575: 10.995629 (loss)\n",
      "Iteration 576: 10.995625 (loss)\n",
      "Iteration 577: 10.995622 (loss)\n",
      "Iteration 578: 10.995619 (loss)\n",
      "Iteration 579: 10.995616 (loss)\n",
      "Iteration 580: 10.995612 (loss)\n",
      "Iteration 581: 10.995609 (loss)\n",
      "Iteration 582: 10.995606 (loss)\n",
      "Iteration 583: 10.995603 (loss)\n",
      "Iteration 584: 10.995600 (loss)\n",
      "Iteration 585: 10.995597 (loss)\n",
      "Iteration 586: 10.995594 (loss)\n",
      "Iteration 587: 10.995591 (loss)\n",
      "Iteration 588: 10.995588 (loss)\n",
      "Iteration 589: 10.995585 (loss)\n",
      "Iteration 590: 10.995582 (loss)\n",
      "Iteration 591: 10.995580 (loss)\n",
      "Iteration 592: 10.995577 (loss)\n",
      "Iteration 593: 10.995574 (loss)\n",
      "Iteration 594: 10.995572 (loss)\n",
      "Iteration 595: 10.995569 (loss)\n",
      "Iteration 596: 10.995566 (loss)\n",
      "Iteration 597: 10.995564 (loss)\n",
      "Iteration 598: 10.995561 (loss)\n",
      "Iteration 599: 10.995559 (loss)\n",
      "Iteration 600: 10.995556 (loss)\n",
      "Iteration 601: 10.995554 (loss)\n",
      "Iteration 602: 10.995551 (loss)\n",
      "Iteration 603: 10.995549 (loss)\n",
      "Iteration 604: 10.995547 (loss)\n",
      "Iteration 605: 10.995544 (loss)\n",
      "Iteration 606: 10.995542 (loss)\n",
      "Iteration 607: 10.995540 (loss)\n",
      "Iteration 608: 10.995537 (loss)\n",
      "Iteration 609: 10.995535 (loss)\n",
      "Iteration 610: 10.995533 (loss)\n",
      "Iteration 611: 10.995531 (loss)\n",
      "Iteration 612: 10.995529 (loss)\n",
      "Iteration 613: 10.995527 (loss)\n",
      "Iteration 614: 10.995524 (loss)\n",
      "Iteration 615: 10.995522 (loss)\n",
      "Iteration 616: 10.995520 (loss)\n",
      "Iteration 617: 10.995518 (loss)\n",
      "Iteration 618: 10.995516 (loss)\n",
      "Iteration 619: 10.995514 (loss)\n",
      "Iteration 620: 10.995513 (loss)\n",
      "Iteration 621: 10.995511 (loss)\n",
      "Iteration 622: 10.995509 (loss)\n",
      "Iteration 623: 10.995507 (loss)\n",
      "Iteration 624: 10.995505 (loss)\n",
      "Iteration 625: 10.995503 (loss)\n",
      "Iteration 626: 10.995501 (loss)\n",
      "Iteration 627: 10.995500 (loss)\n",
      "Iteration 628: 10.995498 (loss)\n",
      "Iteration 629: 10.995496 (loss)\n",
      "Iteration 630: 10.995495 (loss)\n",
      "Iteration 631: 10.995493 (loss)\n",
      "Iteration 632: 10.995491 (loss)\n",
      "Iteration 633: 10.995490 (loss)\n",
      "Iteration 634: 10.995488 (loss)\n",
      "Iteration 635: 10.995486 (loss)\n",
      "Iteration 636: 10.995485 (loss)\n",
      "Iteration 637: 10.995483 (loss)\n",
      "Iteration 638: 10.995482 (loss)\n",
      "Iteration 639: 10.995480 (loss)\n",
      "Iteration 640: 10.995479 (loss)\n",
      "Iteration 641: 10.995477 (loss)\n",
      "Iteration 642: 10.995476 (loss)\n",
      "Iteration 643: 10.995474 (loss)\n",
      "Iteration 644: 10.995473 (loss)\n",
      "Iteration 645: 10.995471 (loss)\n",
      "Iteration 646: 10.995470 (loss)\n",
      "Iteration 647: 10.995469 (loss)\n",
      "Iteration 648: 10.995467 (loss)\n",
      "Iteration 649: 10.995466 (loss)\n",
      "Iteration 650: 10.995465 (loss)\n",
      "Iteration 651: 10.995463 (loss)\n",
      "Iteration 652: 10.995462 (loss)\n",
      "Iteration 653: 10.995461 (loss)\n",
      "Iteration 654: 10.995460 (loss)\n",
      "Iteration 655: 10.995458 (loss)\n",
      "Iteration 656: 10.995457 (loss)\n",
      "Iteration 657: 10.995456 (loss)\n",
      "Iteration 658: 10.995455 (loss)\n",
      "Iteration 659: 10.995454 (loss)\n",
      "Iteration 660: 10.995452 (loss)\n",
      "Iteration 661: 10.995451 (loss)\n",
      "Iteration 662: 10.995450 (loss)\n",
      "Iteration 663: 10.995449 (loss)\n",
      "Iteration 664: 10.995448 (loss)\n",
      "Iteration 665: 10.995447 (loss)\n",
      "Iteration 666: 10.995446 (loss)\n",
      "Iteration 667: 10.995445 (loss)\n",
      "Iteration 668: 10.995444 (loss)\n",
      "Iteration 669: 10.995443 (loss)\n",
      "Iteration 670: 10.995442 (loss)\n",
      "Iteration 671: 10.995441 (loss)\n",
      "Iteration 672: 10.995440 (loss)\n",
      "Iteration 673: 10.995439 (loss)\n",
      "Iteration 674: 10.995438 (loss)\n",
      "Iteration 675: 10.995437 (loss)\n",
      "Iteration 676: 10.995436 (loss)\n",
      "Iteration 677: 10.995435 (loss)\n",
      "Iteration 678: 10.995434 (loss)\n",
      "Iteration 679: 10.995433 (loss)\n",
      "Iteration 680: 10.995432 (loss)\n",
      "Iteration 681: 10.995431 (loss)\n",
      "Iteration 682: 10.995430 (loss)\n",
      "Iteration 683: 10.995429 (loss)\n",
      "Iteration 684: 10.995429 (loss)\n",
      "Iteration 685: 10.995428 (loss)\n",
      "Iteration 686: 10.995427 (loss)\n",
      "Iteration 687: 10.995426 (loss)\n",
      "Iteration 688: 10.995425 (loss)\n",
      "Iteration 689: 10.995424 (loss)\n",
      "Iteration 690: 10.995424 (loss)\n",
      "Iteration 691: 10.995423 (loss)\n",
      "Iteration 692: 10.995422 (loss)\n",
      "Iteration 693: 10.995421 (loss)\n",
      "Iteration 694: 10.995421 (loss)\n",
      "Iteration 695: 10.995420 (loss)\n",
      "Iteration 696: 10.995419 (loss)\n",
      "Iteration 697: 10.995418 (loss)\n",
      "Iteration 698: 10.995418 (loss)\n",
      "Iteration 699: 10.995417 (loss)\n",
      "Iteration 700: 10.995416 (loss)\n",
      "Iteration 701: 10.995416 (loss)\n",
      "Iteration 702: 10.995415 (loss)\n",
      "Iteration 703: 10.995414 (loss)\n",
      "Iteration 704: 10.995414 (loss)\n",
      "Iteration 705: 10.995413 (loss)\n",
      "Iteration 706: 10.995412 (loss)\n",
      "Iteration 707: 10.995412 (loss)\n",
      "Iteration 708: 10.995411 (loss)\n",
      "Iteration 709: 10.995410 (loss)\n",
      "Iteration 710: 10.995410 (loss)\n",
      "Iteration 711: 10.995409 (loss)\n",
      "Iteration 712: 10.995409 (loss)\n",
      "Iteration 713: 10.995408 (loss)\n",
      "Iteration 714: 10.995407 (loss)\n",
      "Iteration 715: 10.995407 (loss)\n",
      "Iteration 716: 10.995406 (loss)\n",
      "Iteration 717: 10.995406 (loss)\n",
      "Iteration 718: 10.995405 (loss)\n",
      "Iteration 719: 10.995405 (loss)\n",
      "Iteration 720: 10.995404 (loss)\n",
      "Iteration 721: 10.995403 (loss)\n",
      "Iteration 722: 10.995403 (loss)\n",
      "Iteration 723: 10.995402 (loss)\n",
      "Iteration 724: 10.995402 (loss)\n",
      "Iteration 725: 10.995401 (loss)\n",
      "Iteration 726: 10.995401 (loss)\n",
      "Iteration 727: 10.995400 (loss)\n",
      "Iteration 728: 10.995400 (loss)\n",
      "Iteration 729: 10.995399 (loss)\n",
      "Iteration 730: 10.995399 (loss)\n",
      "Iteration 731: 10.995398 (loss)\n",
      "Iteration 732: 10.995398 (loss)\n",
      "Iteration 733: 10.995398 (loss)\n",
      "Iteration 734: 10.995397 (loss)\n",
      "Iteration 735: 10.995397 (loss)\n",
      "Iteration 736: 10.995396 (loss)\n",
      "Iteration 737: 10.995396 (loss)\n",
      "Iteration 738: 10.995395 (loss)\n",
      "Iteration 739: 10.995395 (loss)\n",
      "Iteration 740: 10.995394 (loss)\n",
      "Iteration 741: 10.995394 (loss)\n",
      "Iteration 742: 10.995394 (loss)\n",
      "Iteration 743: 10.995393 (loss)\n",
      "Iteration 744: 10.995393 (loss)\n",
      "Iteration 745: 10.995392 (loss)\n",
      "Iteration 746: 10.995392 (loss)\n",
      "Iteration 747: 10.995392 (loss)\n",
      "Iteration 748: 10.995391 (loss)\n",
      "Iteration 749: 10.995391 (loss)\n",
      "Iteration 750: 10.995391 (loss)\n",
      "Iteration 751: 10.995390 (loss)\n",
      "Iteration 752: 10.995390 (loss)\n",
      "Iteration 753: 10.995389 (loss)\n",
      "Iteration 754: 10.995389 (loss)\n",
      "Iteration 755: 10.995389 (loss)\n",
      "Iteration 756: 10.995388 (loss)\n",
      "Iteration 757: 10.995388 (loss)\n",
      "Iteration 758: 10.995388 (loss)\n",
      "Iteration 759: 10.995387 (loss)\n",
      "Iteration 760: 10.995387 (loss)\n",
      "Iteration 761: 10.995387 (loss)\n",
      "Iteration 762: 10.995386 (loss)\n",
      "Iteration 763: 10.995386 (loss)\n",
      "Iteration 764: 10.995386 (loss)\n",
      "Iteration 765: 10.995386 (loss)\n",
      "Iteration 766: 10.995385 (loss)\n",
      "Iteration 767: 10.995385 (loss)\n",
      "Iteration 768: 10.995385 (loss)\n",
      "Iteration 769: 10.995384 (loss)\n",
      "Iteration 770: 10.995384 (loss)\n",
      "Iteration 771: 10.995384 (loss)\n",
      "Iteration 772: 10.995384 (loss)\n",
      "Iteration 773: 10.995383 (loss)\n",
      "Iteration 774: 10.995383 (loss)\n",
      "Iteration 775: 10.995383 (loss)\n",
      "Iteration 776: 10.995382 (loss)\n",
      "Iteration 777: 10.995382 (loss)\n",
      "Iteration 778: 10.995382 (loss)\n",
      "Iteration 779: 10.995382 (loss)\n",
      "Iteration 780: 10.995381 (loss)\n",
      "Iteration 781: 10.995381 (loss)\n",
      "Iteration 782: 10.995381 (loss)\n",
      "Iteration 783: 10.995381 (loss)\n",
      "Iteration 784: 10.995380 (loss)\n",
      "Iteration 785: 10.995380 (loss)\n",
      "Iteration 786: 10.995380 (loss)\n",
      "Iteration 787: 10.995380 (loss)\n",
      "Iteration 788: 10.995379 (loss)\n",
      "Iteration 789: 10.995379 (loss)\n",
      "Iteration 790: 10.995379 (loss)\n",
      "Iteration 791: 10.995379 (loss)\n",
      "Iteration 792: 10.995379 (loss)\n",
      "Iteration 793: 10.995378 (loss)\n",
      "Iteration 794: 10.995378 (loss)\n",
      "Iteration 795: 10.995378 (loss)\n",
      "Iteration 796: 10.995378 (loss)\n",
      "Iteration 797: 10.995378 (loss)\n",
      "Iteration 798: 10.995377 (loss)\n",
      "Iteration 799: 10.995377 (loss)\n",
      "Iteration 800: 10.995377 (loss)\n",
      "Iteration 801: 10.995377 (loss)\n",
      "Iteration 802: 10.995377 (loss)\n",
      "Iteration 803: 10.995376 (loss)\n",
      "Iteration 804: 10.995376 (loss)\n",
      "Iteration 805: 10.995376 (loss)\n",
      "Iteration 806: 10.995376 (loss)\n",
      "Iteration 807: 10.995376 (loss)\n",
      "Iteration 808: 10.995375 (loss)\n",
      "Iteration 809: 10.995375 (loss)\n",
      "Iteration 810: 10.995375 (loss)\n",
      "Iteration 811: 10.995375 (loss)\n",
      "Iteration 812: 10.995375 (loss)\n",
      "Iteration 813: 10.995375 (loss)\n",
      "Iteration 814: 10.995374 (loss)\n",
      "Iteration 815: 10.995374 (loss)\n",
      "Iteration 816: 10.995374 (loss)\n",
      "Iteration 817: 10.995374 (loss)\n",
      "Iteration 818: 10.995374 (loss)\n",
      "Iteration 819: 10.995374 (loss)\n",
      "Iteration 820: 10.995374 (loss)\n",
      "Iteration 821: 10.995373 (loss)\n",
      "Iteration 822: 10.995373 (loss)\n",
      "Iteration 823: 10.995373 (loss)\n",
      "Iteration 824: 10.995373 (loss)\n",
      "Iteration 825: 10.995373 (loss)\n",
      "Iteration 826: 10.995373 (loss)\n",
      "Iteration 827: 10.995373 (loss)\n",
      "Iteration 828: 10.995372 (loss)\n",
      "Iteration 829: 10.995372 (loss)\n",
      "Iteration 830: 10.995372 (loss)\n",
      "Iteration 831: 10.995372 (loss)\n",
      "Iteration 832: 10.995372 (loss)\n",
      "Iteration 833: 10.995372 (loss)\n",
      "Iteration 834: 10.995372 (loss)\n",
      "Iteration 835: 10.995371 (loss)\n",
      "Iteration 836: 10.995371 (loss)\n",
      "Iteration 837: 10.995371 (loss)\n",
      "Iteration 838: 10.995371 (loss)\n",
      "Iteration 839: 10.995371 (loss)\n",
      "Iteration 840: 10.995371 (loss)\n",
      "Iteration 841: 10.995371 (loss)\n",
      "Iteration 842: 10.995371 (loss)\n",
      "Iteration 843: 10.995371 (loss)\n",
      "Iteration 844: 10.995370 (loss)\n",
      "Iteration 845: 10.995370 (loss)\n",
      "Iteration 846: 10.995370 (loss)\n",
      "Iteration 847: 10.995370 (loss)\n",
      "Iteration 848: 10.995370 (loss)\n",
      "Iteration 849: 10.995370 (loss)\n",
      "Iteration 850: 10.995370 (loss)\n",
      "Iteration 851: 10.995370 (loss)\n",
      "Iteration 852: 10.995370 (loss)\n",
      "Iteration 853: 10.995369 (loss)\n",
      "Iteration 854: 10.995369 (loss)\n",
      "Iteration 855: 10.995369 (loss)\n",
      "Iteration 856: 10.995369 (loss)\n",
      "Iteration 857: 10.995369 (loss)\n",
      "Iteration 858: 10.995369 (loss)\n",
      "Iteration 859: 10.995369 (loss)\n",
      "Iteration 860: 10.995369 (loss)\n",
      "Iteration 861: 10.995369 (loss)\n",
      "Iteration 862: 10.995369 (loss)\n",
      "Iteration 863: 10.995369 (loss)\n",
      "Iteration 864: 10.995368 (loss)\n",
      "Iteration 865: 10.995368 (loss)\n",
      "Iteration 866: 10.995368 (loss)\n",
      "Iteration 867: 10.995368 (loss)\n",
      "Iteration 868: 10.995368 (loss)\n",
      "Iteration 869: 10.995368 (loss)\n",
      "Iteration 870: 10.995368 (loss)\n",
      "Iteration 871: 10.995368 (loss)\n",
      "Iteration 872: 10.995368 (loss)\n",
      "Iteration 873: 10.995368 (loss)\n",
      "Iteration 874: 10.995368 (loss)\n",
      "Iteration 875: 10.995368 (loss)\n",
      "Iteration 876: 10.995367 (loss)\n",
      "Iteration 877: 10.995367 (loss)\n",
      "Iteration 878: 10.995367 (loss)\n",
      "Iteration 879: 10.995367 (loss)\n",
      "Iteration 880: 10.995367 (loss)\n",
      "Iteration 881: 10.995367 (loss)\n",
      "Iteration 882: 10.995367 (loss)\n",
      "Iteration 883: 10.995367 (loss)\n",
      "Iteration 884: 10.995367 (loss)\n",
      "Iteration 885: 10.995367 (loss)\n",
      "Iteration 886: 10.995367 (loss)\n",
      "Iteration 887: 10.995367 (loss)\n",
      "Iteration 888: 10.995367 (loss)\n",
      "Iteration 889: 10.995367 (loss)\n",
      "Iteration 890: 10.995367 (loss)\n",
      "Iteration 891: 10.995366 (loss)\n",
      "Iteration 892: 10.995366 (loss)\n",
      "Iteration 893: 10.995366 (loss)\n",
      "Iteration 894: 10.995366 (loss)\n",
      "Iteration 895: 10.995366 (loss)\n",
      "Iteration 896: 10.995366 (loss)\n",
      "Iteration 897: 10.995366 (loss)\n",
      "Iteration 898: 10.995366 (loss)\n",
      "Iteration 899: 10.995366 (loss)\n",
      "Iteration 900: 10.995366 (loss)\n",
      "Iteration 901: 10.995366 (loss)\n",
      "Iteration 902: 10.995366 (loss)\n",
      "Iteration 903: 10.995366 (loss)\n",
      "Iteration 904: 10.995366 (loss)\n",
      "Iteration 905: 10.995366 (loss)\n",
      "Iteration 906: 10.995366 (loss)\n",
      "Iteration 907: 10.995366 (loss)\n",
      "Iteration 908: 10.995366 (loss)\n",
      "Iteration 909: 10.995365 (loss)\n",
      "Iteration 910: 10.995365 (loss)\n",
      "Iteration 911: 10.995365 (loss)\n",
      "Iteration 912: 10.995365 (loss)\n",
      "Iteration 913: 10.995365 (loss)\n",
      "Iteration 914: 10.995365 (loss)\n",
      "Iteration 915: 10.995365 (loss)\n",
      "Iteration 916: 10.995365 (loss)\n",
      "Iteration 917: 10.995365 (loss)\n",
      "Iteration 918: 10.995365 (loss)\n",
      "Iteration 919: 10.995365 (loss)\n",
      "Iteration 920: 10.995365 (loss)\n",
      "Iteration 921: 10.995365 (loss)\n",
      "Iteration 922: 10.995365 (loss)\n",
      "Iteration 923: 10.995365 (loss)\n",
      "Iteration 924: 10.995365 (loss)\n",
      "Iteration 925: 10.995365 (loss)\n",
      "Iteration 926: 10.995365 (loss)\n",
      "Iteration 927: 10.995365 (loss)\n",
      "Iteration 928: 10.995365 (loss)\n",
      "Iteration 929: 10.995365 (loss)\n",
      "Iteration 930: 10.995365 (loss)\n",
      "Iteration 931: 10.995365 (loss)\n",
      "Iteration 932: 10.995364 (loss)\n",
      "Iteration 933: 10.995364 (loss)\n",
      "Iteration 934: 10.995364 (loss)\n",
      "Iteration 935: 10.995364 (loss)\n",
      "Iteration 936: 10.995364 (loss)\n",
      "Iteration 937: 10.995364 (loss)\n",
      "Iteration 938: 10.995364 (loss)\n",
      "Iteration 939: 10.995364 (loss)\n",
      "Iteration 940: 10.995364 (loss)\n",
      "Iteration 941: 10.995364 (loss)\n",
      "Iteration 942: 10.995364 (loss)\n",
      "Iteration 943: 10.995364 (loss)\n",
      "Iteration 944: 10.995364 (loss)\n",
      "Iteration 945: 10.995364 (loss)\n",
      "Iteration 946: 10.995364 (loss)\n",
      "Iteration 947: 10.995364 (loss)\n",
      "Iteration 948: 10.995364 (loss)\n",
      "Iteration 949: 10.995364 (loss)\n",
      "Iteration 950: 10.995364 (loss)\n",
      "Iteration 951: 10.995364 (loss)\n",
      "Iteration 952: 10.995364 (loss)\n",
      "Iteration 953: 10.995364 (loss)\n",
      "Iteration 954: 10.995364 (loss)\n",
      "Iteration 955: 10.995364 (loss)\n",
      "Iteration 956: 10.995364 (loss)\n",
      "Iteration 957: 10.995364 (loss)\n",
      "Iteration 958: 10.995364 (loss)\n",
      "Iteration 959: 10.995364 (loss)\n",
      "Iteration 960: 10.995364 (loss)\n",
      "Iteration 961: 10.995364 (loss)\n",
      "Iteration 962: 10.995364 (loss)\n",
      "Iteration 963: 10.995364 (loss)\n",
      "Iteration 964: 10.995364 (loss)\n",
      "Iteration 965: 10.995363 (loss)\n",
      "Iteration 966: 10.995363 (loss)\n",
      "Iteration 967: 10.995363 (loss)\n",
      "Iteration 968: 10.995363 (loss)\n",
      "Iteration 969: 10.995363 (loss)\n",
      "Iteration 970: 10.995363 (loss)\n",
      "Iteration 971: 10.995363 (loss)\n",
      "Iteration 972: 10.995363 (loss)\n",
      "Iteration 973: 10.995363 (loss)\n",
      "Iteration 974: 10.995363 (loss)\n",
      "Iteration 975: 10.995363 (loss)\n",
      "Iteration 976: 10.995363 (loss)\n",
      "Iteration 977: 10.995363 (loss)\n",
      "Iteration 978: 10.995363 (loss)\n",
      "Iteration 979: 10.995363 (loss)\n",
      "Iteration 980: 10.995363 (loss)\n",
      "Iteration 981: 10.995363 (loss)\n",
      "Iteration 982: 10.995363 (loss)\n",
      "Iteration 983: 10.995363 (loss)\n",
      "Iteration 984: 10.995363 (loss)\n",
      "Iteration 985: 10.995363 (loss)\n",
      "Iteration 986: 10.995363 (loss)\n",
      "Iteration 987: 10.995363 (loss)\n",
      "Iteration 988: 10.995363 (loss)\n",
      "Iteration 989: 10.995363 (loss)\n",
      "Iteration 990: 10.995363 (loss)\n",
      "Iteration 991: 10.995363 (loss)\n",
      "Iteration 992: 10.995363 (loss)\n",
      "Iteration 993: 10.995363 (loss)\n",
      "Iteration 994: 10.995363 (loss)\n",
      "Iteration 995: 10.995363 (loss)\n",
      "Iteration 996: 10.995363 (loss)\n",
      "Iteration 997: 10.995363 (loss)\n",
      "Iteration 998: 10.995363 (loss)\n",
      "Iteration 999: 10.995363 (loss)\n",
      "Iteration 1000: 10.995363 (loss)\n",
      "Theta 0 : 22.532806, Theta 1 : -0.928612\n"
     ]
    }
   ],
   "source": [
    "# YOUR CODE HERE\n",
    "theta_history_1, j_history_1 = gradientDescent(X, y, theta=np.zeros((X.shape[1], 1)), alpha=0.1, n_iteration=1000)"
   ]
  },
  {
   "cell_type": "markdown",
   "metadata": {
    "deletable": false,
    "editable": false,
    "nbgrader": {
     "cell_type": "markdown",
     "checksum": "8973bb8f784131824c25c27578d3cc9d",
     "grade": false,
     "grade_id": "cell-812914372bfc9b0b",
     "locked": true,
     "schema_version": 3,
     "solution": false,
     "task": false
    }
   },
   "source": [
    "## 2.3 Find theta by using Least-Squares"
   ]
  },
  {
   "cell_type": "code",
   "execution_count": 22,
   "metadata": {
    "ExecuteTime": {
     "end_time": "2021-02-03T19:11:07.875901Z",
     "start_time": "2021-02-03T19:11:07.871186Z"
    },
    "deletable": false,
    "nbgrader": {
     "cell_type": "code",
     "checksum": "020e3a6d55b7259efea65a678bb66f3c",
     "grade": false,
     "grade_id": "cell-6b668ffe4b9c46a5",
     "locked": false,
     "schema_version": 3,
     "solution": true,
     "task": false
    }
   },
   "outputs": [
    {
     "data": {
      "text/plain": [
       "array([[22.53280632],\n",
       "       [-0.9288962 ],\n",
       "       [ 1.17144816],\n",
       "       [ 0.18001873],\n",
       "       [ 0.6582491 ],\n",
       "       [-1.98608658],\n",
       "       [ 2.71163714],\n",
       "       [ 0.02973736],\n",
       "       [-3.10610048],\n",
       "       [ 2.73038415],\n",
       "       [-2.1674497 ],\n",
       "       [-2.01659509],\n",
       "       [ 0.86009994],\n",
       "       [-3.73465694]])"
      ]
     },
     "execution_count": 22,
     "metadata": {},
     "output_type": "execute_result"
    }
   ],
   "source": [
    "# YOUR CODE HERE\n",
    "ls_theta = np.dot(np.linalg.pinv(X), y)\n",
    "ls_theta"
   ]
  },
  {
   "cell_type": "code",
   "execution_count": 23,
   "metadata": {
    "deletable": false,
    "editable": false,
    "nbgrader": {
     "cell_type": "code",
     "checksum": "3e6cc8bf358a42ecebefc85a8d9fae5d",
     "grade": true,
     "grade_id": "cell-9e6cce1dcaa13939",
     "locked": true,
     "points": 0,
     "schema_version": 3,
     "solution": false,
     "task": false
    }
   },
   "outputs": [],
   "source": [
    "assert ls_theta.shape == (14, 1)"
   ]
  },
  {
   "cell_type": "markdown",
   "metadata": {
    "deletable": false,
    "editable": false,
    "nbgrader": {
     "cell_type": "markdown",
     "checksum": "be4f5da5d76b1b4db247e863f851fa54",
     "grade": false,
     "grade_id": "cell-ef70629e30aafe12",
     "locked": true,
     "schema_version": 3,
     "solution": false,
     "task": false
    }
   },
   "source": [
    "## 2.4 Compare an error between Gradient Descent Algorithm and Least-Squares.\n",
    "\n",
    "What do you observe?"
   ]
  },
  {
   "cell_type": "code",
   "execution_count": 24,
   "metadata": {
    "deletable": false,
    "nbgrader": {
     "cell_type": "code",
     "checksum": "a6c6564518abe81f9432e457dfa15fed",
     "grade": false,
     "grade_id": "cell-e6dd11d8c2ff3804",
     "locked": false,
     "schema_version": 3,
     "solution": true,
     "task": false
    }
   },
   "outputs": [
    {
     "data": {
      "text/plain": [
       "10.995361606369448"
      ]
     },
     "execution_count": 24,
     "metadata": {},
     "output_type": "execute_result"
    }
   ],
   "source": [
    "# YOUR CODE HERE\n",
    "loss = computeCostFunction(X , y, ls_theta)\n",
    "loss"
   ]
  },
  {
   "cell_type": "markdown",
   "metadata": {
    "deletable": false,
    "nbgrader": {
     "cell_type": "markdown",
     "checksum": "af9a4a8d6b344b1fe87a2f57a00f2292",
     "grade": true,
     "grade_id": "cell-6416174b506aaac4",
     "locked": false,
     "points": 3,
     "schema_version": 3,
     "solution": true,
     "task": false
    }
   },
   "source": [
    "YOUR ANSWER HERE"
   ]
  },
  {
   "cell_type": "code",
   "execution_count": 25,
   "metadata": {},
   "outputs": [
    {
     "name": "stdout",
     "output_type": "stream",
     "text": [
      "Gradient Descent Algorithm : 10.995362818059487\n",
      "Least-Squares              : 10.995361606369448\n"
     ]
    }
   ],
   "source": [
    "print('Gradient Descent Algorithm :', j_history_1[-1])\n",
    "print('Least-Squares              :', loss)"
   ]
  },
  {
   "cell_type": "code",
   "execution_count": 26,
   "metadata": {},
   "outputs": [],
   "source": [
    "# Observing the render above, using Least-Squares and Gradient bars produces almost the same low error value.\n",
    "# The difference is that the Gradient Descent has to set iteration and learning rate appropriately to achieve a low value.\n",
    "# If iteration is not set well, the value will not be as low as Least Squares."
   ]
  },
  {
   "cell_type": "markdown",
   "metadata": {
    "deletable": false,
    "editable": false,
    "nbgrader": {
     "cell_type": "markdown",
     "checksum": "2102a406efeb159b9f03ad2d61881b6a",
     "grade": false,
     "grade_id": "cell-62f6eeba6c343271",
     "locked": true,
     "schema_version": 3,
     "solution": false,
     "task": false
    }
   },
   "source": [
    "## 2.5 Can these two algorithms obtain the optimal solutions?"
   ]
  },
  {
   "cell_type": "markdown",
   "metadata": {
    "deletable": false,
    "nbgrader": {
     "cell_type": "markdown",
     "checksum": "0486fe5114bb7dc46717810eb1d66222",
     "grade": true,
     "grade_id": "cell-a13bdc55d3e91b96",
     "locked": false,
     "points": 5,
     "schema_version": 3,
     "solution": true,
     "task": false
    }
   },
   "source": [
    "YOUR ANSWER HERE"
   ]
  },
  {
   "cell_type": "code",
   "execution_count": 27,
   "metadata": {},
   "outputs": [],
   "source": [
    "# Both algorithms are able to find the best value. The two values may be approximately the same. but not the same 100%"
   ]
  },
  {
   "cell_type": "markdown",
   "metadata": {
    "deletable": false,
    "editable": false,
    "nbgrader": {
     "cell_type": "markdown",
     "checksum": "b6a1091f761840d5e14dc376a065c563",
     "grade": false,
     "grade_id": "cell-d4c532e5af4dc164",
     "locked": true,
     "schema_version": 3,
     "solution": false,
     "task": false
    }
   },
   "source": [
    "## 2.6 Plot the importance of all the features.\n",
    "\n",
    "Which features is the most importance features in this dataset?"
   ]
  },
  {
   "cell_type": "code",
   "execution_count": 28,
   "metadata": {
    "deletable": false,
    "nbgrader": {
     "cell_type": "code",
     "checksum": "e570262a7258e0a3c2035322944791c4",
     "grade": true,
     "grade_id": "cell-7303a0df029de5fd",
     "locked": false,
     "points": 5,
     "schema_version": 3,
     "solution": true,
     "task": false
    }
   },
   "outputs": [
    {
     "data": {
      "text/html": [
       "<div>\n",
       "<style scoped>\n",
       "    .dataframe tbody tr th:only-of-type {\n",
       "        vertical-align: middle;\n",
       "    }\n",
       "\n",
       "    .dataframe tbody tr th {\n",
       "        vertical-align: top;\n",
       "    }\n",
       "\n",
       "    .dataframe thead th {\n",
       "        text-align: right;\n",
       "    }\n",
       "</style>\n",
       "<table border=\"1\" class=\"dataframe\">\n",
       "  <thead>\n",
       "    <tr style=\"text-align: right;\">\n",
       "      <th></th>\n",
       "      <th>Least-Squares</th>\n",
       "      <th>Gradient</th>\n",
       "      <th>Different</th>\n",
       "    </tr>\n",
       "  </thead>\n",
       "  <tbody>\n",
       "    <tr>\n",
       "      <th>0</th>\n",
       "      <td>22.532806</td>\n",
       "      <td>22.532806</td>\n",
       "      <td>1.776357e-14</td>\n",
       "    </tr>\n",
       "    <tr>\n",
       "      <th>1</th>\n",
       "      <td>0.928896</td>\n",
       "      <td>0.928612</td>\n",
       "      <td>2.838922e-04</td>\n",
       "    </tr>\n",
       "    <tr>\n",
       "      <th>2</th>\n",
       "      <td>1.171448</td>\n",
       "      <td>1.170967</td>\n",
       "      <td>4.813264e-04</td>\n",
       "    </tr>\n",
       "    <tr>\n",
       "      <th>3</th>\n",
       "      <td>0.180019</td>\n",
       "      <td>0.178462</td>\n",
       "      <td>1.556359e-03</td>\n",
       "    </tr>\n",
       "    <tr>\n",
       "      <th>4</th>\n",
       "      <td>0.658249</td>\n",
       "      <td>0.658476</td>\n",
       "      <td>2.266394e-04</td>\n",
       "    </tr>\n",
       "    <tr>\n",
       "      <th>5</th>\n",
       "      <td>1.986087</td>\n",
       "      <td>1.985786</td>\n",
       "      <td>3.004687e-04</td>\n",
       "    </tr>\n",
       "    <tr>\n",
       "      <th>6</th>\n",
       "      <td>2.711637</td>\n",
       "      <td>2.711922</td>\n",
       "      <td>2.851596e-04</td>\n",
       "    </tr>\n",
       "    <tr>\n",
       "      <th>7</th>\n",
       "      <td>0.029737</td>\n",
       "      <td>0.029490</td>\n",
       "      <td>2.474838e-04</td>\n",
       "    </tr>\n",
       "    <tr>\n",
       "      <th>8</th>\n",
       "      <td>3.106100</td>\n",
       "      <td>3.106223</td>\n",
       "      <td>1.224293e-04</td>\n",
       "    </tr>\n",
       "    <tr>\n",
       "      <th>9</th>\n",
       "      <td>2.730384</td>\n",
       "      <td>2.726473</td>\n",
       "      <td>3.911089e-03</td>\n",
       "    </tr>\n",
       "    <tr>\n",
       "      <th>10</th>\n",
       "      <td>2.167450</td>\n",
       "      <td>2.163043</td>\n",
       "      <td>4.406853e-03</td>\n",
       "    </tr>\n",
       "    <tr>\n",
       "      <th>11</th>\n",
       "      <td>2.016595</td>\n",
       "      <td>2.016396</td>\n",
       "      <td>1.989821e-04</td>\n",
       "    </tr>\n",
       "    <tr>\n",
       "      <th>12</th>\n",
       "      <td>0.860100</td>\n",
       "      <td>0.860070</td>\n",
       "      <td>3.038803e-05</td>\n",
       "    </tr>\n",
       "    <tr>\n",
       "      <th>13</th>\n",
       "      <td>3.734657</td>\n",
       "      <td>3.734512</td>\n",
       "      <td>1.451927e-04</td>\n",
       "    </tr>\n",
       "  </tbody>\n",
       "</table>\n",
       "</div>"
      ],
      "text/plain": [
       "    Least-Squares   Gradient     Different\n",
       "0       22.532806  22.532806  1.776357e-14\n",
       "1        0.928896   0.928612  2.838922e-04\n",
       "2        1.171448   1.170967  4.813264e-04\n",
       "3        0.180019   0.178462  1.556359e-03\n",
       "4        0.658249   0.658476  2.266394e-04\n",
       "5        1.986087   1.985786  3.004687e-04\n",
       "6        2.711637   2.711922  2.851596e-04\n",
       "7        0.029737   0.029490  2.474838e-04\n",
       "8        3.106100   3.106223  1.224293e-04\n",
       "9        2.730384   2.726473  3.911089e-03\n",
       "10       2.167450   2.163043  4.406853e-03\n",
       "11       2.016595   2.016396  1.989821e-04\n",
       "12       0.860100   0.860070  3.038803e-05\n",
       "13       3.734657   3.734512  1.451927e-04"
      ]
     },
     "execution_count": 28,
     "metadata": {},
     "output_type": "execute_result"
    }
   ],
   "source": [
    "# YOUR CODE HERE\n",
    "df = pd.DataFrame(abs(ls_theta),columns = ['Least-Squares'])\n",
    "df['Gradient'] = abs(theta_history_1[-1])\n",
    "df['Different'] = abs(df['Least-Squares'] - df['Gradient'])\n",
    "df"
   ]
  },
  {
   "cell_type": "code",
   "execution_count": 29,
   "metadata": {},
   "outputs": [
    {
     "data": {
      "text/plain": [
       "Text(0.5, 1.0, 'Compare an error between Gradient Descent Algorithm and Least-Squares')"
      ]
     },
     "execution_count": 29,
     "metadata": {},
     "output_type": "execute_result"
    },
    {
     "data": {
      "image/png": "[encoded data removed]",
      "text/plain": [
       "<Figure size 1080x576 with 1 Axes>"
      ]
     },
     "metadata": {
      "needs_background": "light"
     },
     "output_type": "display_data"
    }
   ],
   "source": [
    "df[['Least-Squares', 'Gradient']].plot.bar(figsize=(15,8))\n",
    "plt.title('Compare an error between Gradient Descent Algorithm and Least-Squares')\n"
   ]
  },
  {
   "cell_type": "code",
   "execution_count": 30,
   "metadata": {},
   "outputs": [],
   "source": [
    "# From the graph, the 1st feature is of utmost importance."
   ]
  },
  {
   "cell_type": "markdown",
   "metadata": {
    "deletable": false,
    "editable": false,
    "nbgrader": {
     "cell_type": "markdown",
     "checksum": "44d91be5d848e0a4f7916050332e21c6",
     "grade": false,
     "grade_id": "cell-39bf9f4efc72407f",
     "locked": true,
     "schema_version": 3,
     "solution": false,
     "task": false
    }
   },
   "source": [
    "# 3. Least-Squares - Non-linear Data"
   ]
  },
  {
   "cell_type": "markdown",
   "metadata": {
    "deletable": false,
    "editable": false,
    "nbgrader": {
     "cell_type": "markdown",
     "checksum": "aba92abf8c4fffcdd2829be1c942b532",
     "grade": false,
     "grade_id": "cell-b609751f8aec3f83",
     "locked": true,
     "schema_version": 3,
     "solution": false,
     "task": false
    }
   },
   "source": [
    "## 3.1 Import dataset from `ex2_x.csv` as $x$ and `ex2_z.csv` as $Z$.\n",
    "\n",
    "It is noted that $z$ in generated by sine function with Gaussian random noise (S.D.=0.2)."
   ]
  },
  {
   "cell_type": "code",
   "execution_count": 31,
   "metadata": {
    "ExecuteTime": {
     "end_time": "2021-02-03T19:11:07.909444Z",
     "start_time": "2021-02-03T19:11:07.904193Z"
    }
   },
   "outputs": [],
   "source": [
    "x = np.genfromtxt('DataSet/ex2_x.csv', delimiter=',')\n",
    "z = np.genfromtxt('DataSet/ex2_z.csv', delimiter=',')"
   ]
  },
  {
   "cell_type": "code",
   "execution_count": 32,
   "metadata": {
    "ExecuteTime": {
     "end_time": "2021-02-03T19:11:07.916598Z",
     "start_time": "2021-02-03T19:11:07.913758Z"
    }
   },
   "outputs": [],
   "source": [
    "x = np.expand_dims(x, axis=0).T\n",
    "z = np.expand_dims(z, axis=0).T"
   ]
  },
  {
   "cell_type": "code",
   "execution_count": 33,
   "metadata": {
    "ExecuteTime": {
     "end_time": "2021-02-03T19:11:07.923999Z",
     "start_time": "2021-02-03T19:11:07.918870Z"
    }
   },
   "outputs": [
    {
     "name": "stdout",
     "output_type": "stream",
     "text": [
      "x = (101, 1)\n",
      "z = (101, 1)\n"
     ]
    }
   ],
   "source": [
    "print(\"x =\", x.shape)\n",
    "print(\"z =\", z.shape)"
   ]
  },
  {
   "cell_type": "markdown",
   "metadata": {
    "deletable": false,
    "editable": false,
    "nbgrader": {
     "cell_type": "markdown",
     "checksum": "597ba46e97f79b2913029a385972b7ce",
     "grade": false,
     "grade_id": "cell-bd8460da4fbfd141",
     "locked": true,
     "schema_version": 3,
     "solution": false,
     "task": false
    }
   },
   "source": [
    "## 3.2 Plot the data distribution"
   ]
  },
  {
   "cell_type": "code",
   "execution_count": 34,
   "metadata": {
    "ExecuteTime": {
     "end_time": "2021-02-03T19:11:08.089917Z",
     "start_time": "2021-02-03T19:11:07.926207Z"
    }
   },
   "outputs": [
    {
     "data": {
      "text/plain": [
       "<matplotlib.collections.PathCollection at 0x7fdbd0248d60>"
      ]
     },
     "execution_count": 34,
     "metadata": {},
     "output_type": "execute_result"
    },
    {
     "data": {
      "image/png": "[encoded data removed]",
      "text/plain": [
       "<Figure size 432x288 with 1 Axes>"
      ]
     },
     "metadata": {
      "needs_background": "light"
     },
     "output_type": "display_data"
    }
   ],
   "source": [
    "plt.scatter(x, z)"
   ]
  },
  {
   "cell_type": "markdown",
   "metadata": {
    "deletable": false,
    "editable": false,
    "nbgrader": {
     "cell_type": "markdown",
     "checksum": "672b12ca18f589d059ff8c2e9b81d208",
     "grade": false,
     "grade_id": "cell-2913f19107a3b470",
     "locked": true,
     "schema_version": 3,
     "solution": false,
     "task": false
    }
   },
   "source": [
    "## 3.3 Obtain the least-squares solution of $x$ and $z$ and overlay the obtain function on the data distribution you plot in the previous question.\n",
    "\n",
    "Discuss on the results you get."
   ]
  },
  {
   "cell_type": "code",
   "execution_count": 35,
   "metadata": {
    "ExecuteTime": {
     "end_time": "2021-02-03T19:11:08.095329Z",
     "start_time": "2021-02-03T19:11:08.092099Z"
    }
   },
   "outputs": [],
   "source": [
    "X = np.hstack((np.ones((x.shape[0], 1)), x))\n",
    "ls_theta = np.dot(np.linalg.pinv(X), z)\n",
    "# ls_theta = np.dot(np.dot(np.linalg.inv(np.dot(X.T, X)), X.T), z)"
   ]
  },
  {
   "cell_type": "code",
   "execution_count": 36,
   "metadata": {
    "ExecuteTime": {
     "end_time": "2021-02-03T19:11:08.100972Z",
     "start_time": "2021-02-03T19:11:08.097601Z"
    }
   },
   "outputs": [
    {
     "data": {
      "text/plain": [
       "array([[ 0.00713729],\n",
       "       [-0.06496448]])"
      ]
     },
     "execution_count": 36,
     "metadata": {},
     "output_type": "execute_result"
    }
   ],
   "source": [
    "ls_theta"
   ]
  },
  {
   "cell_type": "code",
   "execution_count": 37,
   "metadata": {
    "ExecuteTime": {
     "end_time": "2021-02-03T19:11:08.251704Z",
     "start_time": "2021-02-03T19:11:08.102711Z"
    }
   },
   "outputs": [
    {
     "data": {
      "text/plain": [
       "[<matplotlib.lines.Line2D at 0x7fdbe072aa60>]"
      ]
     },
     "execution_count": 37,
     "metadata": {},
     "output_type": "execute_result"
    },
    {
     "data": {
      "image/png": "[encoded data removed]",
      "text/plain": [
       "<Figure size 432x288 with 1 Axes>"
      ]
     },
     "metadata": {
      "needs_background": "light"
     },
     "output_type": "display_data"
    }
   ],
   "source": [
    "plt.scatter(x, z)\n",
    "plt.plot(x, np.dot(X, ls_theta), color='r')"
   ]
  },
  {
   "cell_type": "code",
   "execution_count": 38,
   "metadata": {},
   "outputs": [],
   "source": [
    "# from the graph The prediction line does not follow the trend of the data\n",
    "# because the nature of the data is curved up and down.\n",
    "# And this equation is used as Linear Regression."
   ]
  },
  {
   "cell_type": "markdown",
   "metadata": {
    "deletable": false,
    "editable": false,
    "nbgrader": {
     "cell_type": "markdown",
     "checksum": "4cba5bb4f82225c4fe871469d8d7644b",
     "grade": false,
     "grade_id": "cell-134b2d0f2d9ae990",
     "locked": true,
     "schema_version": 3,
     "solution": false,
     "task": false
    }
   },
   "source": [
    "## 3.4 Find a series of models by increasing the polynomial degree"
   ]
  },
  {
   "cell_type": "code",
   "execution_count": 39,
   "metadata": {
    "deletable": false,
    "nbgrader": {
     "cell_type": "code",
     "checksum": "94adf19812f225ae6d6d807045c2760e",
     "grade": true,
     "grade_id": "cell-5634cb04feb2f9fd",
     "locked": false,
     "points": 5,
     "schema_version": 3,
     "solution": true,
     "task": false
    }
   },
   "outputs": [],
   "source": [
    "# YOUR CODE HERE\n",
    "\"\"\"Polynomial Degree Function\"\"\"\n",
    "def compute_poly(x_test,y_test,degree):\n",
    "    X_lin = np.linspace(x_test.min()-0.5, x_test.max()+0.5, 101).reshape(-1, 1)\n",
    "    bias_1 = np.ones((X_lin.shape[0] , 1))\n",
    "    bias_2 = np.ones((x_test.shape[0] , 1))\n",
    "    list_poly = []\n",
    "    \n",
    "    for i in range(0,degree):\n",
    "        bias_1 = np.hstack((bias_1, X_lin**(i+1)))\n",
    "        bias_2 = np.hstack((bias_2,x_test**(i+1)))\n",
    "        poly = np.dot(np.linalg.pinv(bias_2) , y_test)\n",
    "        y = np.dot(bias_1, poly)\n",
    "        list_poly.append(poly)\n",
    "        \n",
    "    return list_poly, bias_1, X_lin,y, bias_2"
   ]
  },
  {
   "cell_type": "code",
   "execution_count": 40,
   "metadata": {},
   "outputs": [
    {
     "data": {
      "text/plain": [
       "[array([[ 0.00713729],\n",
       "        [-0.06496448]]),\n",
       " array([[ 0.0164896 ],\n",
       "        [-0.06496448],\n",
       "        [-0.00110027]]),\n",
       " array([[ 0.0164896 ],\n",
       "        [ 0.40991105],\n",
       "        [-0.00110027],\n",
       "        [-0.03104167]]),\n",
       " array([[-0.01972189],\n",
       "        [ 0.40991105],\n",
       "        [ 0.01310681],\n",
       "        [-0.03104167],\n",
       "        [-0.00065021]]),\n",
       " array([[-1.97218883e-02],\n",
       "        [ 8.72391462e-01],\n",
       "        [ 1.31068138e-02],\n",
       "        [-1.15739532e-01],\n",
       "        [-6.50209886e-04],\n",
       "        [ 2.99109564e-03]])]"
      ]
     },
     "execution_count": 40,
     "metadata": {},
     "output_type": "execute_result"
    }
   ],
   "source": [
    "poly, bias_1, X_lin, y, bias_2 = compute_poly(x,z,5)\n",
    "poly"
   ]
  },
  {
   "cell_type": "code",
   "execution_count": 41,
   "metadata": {},
   "outputs": [
    {
     "data": {
      "image/png": "[encoded data removed]",
      "text/plain": [
       "<Figure size 432x288 with 1 Axes>"
      ]
     },
     "metadata": {
      "needs_background": "light"
     },
     "output_type": "display_data"
    }
   ],
   "source": [
    "plt.scatter(x, z)\n",
    "plt.plot(X_lin, y, color='r')\n",
    "plt.ylim(z.min(), z.max())\n",
    "plt.xlabel(\"$x$\")\n",
    "plt.ylabel(\"$z$\")\n",
    "plt.show()\n"
   ]
  },
  {
   "cell_type": "markdown",
   "metadata": {
    "deletable": false,
    "editable": false,
    "nbgrader": {
     "cell_type": "markdown",
     "checksum": "67f578e97a80cc7576770c35e3ccbb71",
     "grade": false,
     "grade_id": "cell-5a201958a1489314",
     "locked": true,
     "schema_version": 3,
     "solution": false,
     "task": false
    }
   },
   "source": [
    "## 3.5 Plot the result of each polynomial degree"
   ]
  },
  {
   "cell_type": "code",
   "execution_count": 42,
   "metadata": {
    "ExecuteTime": {
     "end_time": "2021-02-03T19:11:08.271743Z",
     "start_time": "2021-02-03T19:11:08.264875Z"
    }
   },
   "outputs": [],
   "source": [
    "def polynomial(degree, X, z):\n",
    "    theta_list = []\n",
    "    X_lin = np.linspace(X.min()-0.5, X.max()+0.5, 1000).reshape(-1, 1)\n",
    "    poly_lin = np.ones((X_lin.shape[0], 1))\n",
    "    \n",
    "    # bias\n",
    "    poly_x = np.ones((X.shape[0], 1))\n",
    "    \n",
    "    for i in range(1, degree+1):\n",
    "        poly_lin = np.hstack((poly_lin, X_lin**i))\n",
    "        poly_x = np.hstack((poly_x, X**i))\n",
    "        \n",
    "        theta = np.dot(np.linalg.pinv(poly_x), z)\n",
    "        y = np.dot(poly_lin, theta)\n",
    "        loss = computeCostFunction(poly_x,z,theta)\n",
    "        \n",
    "        plt.title(\"Polynomial %d degree(s)\" %(i))\n",
    "        plt.scatter(X, z)\n",
    "        plt.plot(X_lin, y, color='r')\n",
    "        plt.ylim(z.min(), z.max())\n",
    "        plt.xlabel(\"$x$\")\n",
    "        plt.ylabel(\"$z$\")\n",
    "        plt.show()\n",
    "        \n",
    "        print('Loss :', loss,\"\\n\\n\\n\\n\")\n",
    "        theta_list.append(theta)\n",
    "    \n",
    "    return theta_list"
   ]
  },
  {
   "cell_type": "code",
   "execution_count": 43,
   "metadata": {
    "ExecuteTime": {
     "end_time": "2021-02-03T19:11:09.512537Z",
     "start_time": "2021-02-03T19:11:08.273888Z"
    }
   },
   "outputs": [
    {
     "data": {
      "image/png": "[encoded data removed]",
      "text/plain": [
       "<Figure size 432x288 with 1 Axes>"
      ]
     },
     "metadata": {
      "needs_background": "light"
     },
     "output_type": "display_data"
    },
    {
     "name": "stdout",
     "output_type": "stream",
     "text": [
      "Loss : 0.2701003605678642 \n",
      "\n",
      "\n",
      "\n",
      "\n"
     ]
    },
    {
     "data": {
      "image/png": "[encoded data removed]",
      "text/plain": [
       "<Figure size 432x288 with 1 Axes>"
      ]
     },
     "metadata": {
      "needs_background": "light"
     },
     "output_type": "display_data"
    },
    {
     "name": "stdout",
     "output_type": "stream",
     "text": [
      "Loss : 0.27006538455088236 \n",
      "\n",
      "\n",
      "\n",
      "\n"
     ]
    },
    {
     "data": {
      "image/png": "[encoded data removed]",
      "text/plain": [
       "<Figure size 432x288 with 1 Axes>"
      ]
     },
     "metadata": {
      "needs_background": "light"
     },
     "output_type": "display_data"
    },
    {
     "name": "stdout",
     "output_type": "stream",
     "text": [
      "Loss : 0.08766143758835934 \n",
      "\n",
      "\n",
      "\n",
      "\n"
     ]
    },
    {
     "data": {
      "image/png": "[encoded data removed]",
      "text/plain": [
       "<Figure size 432x288 with 1 Axes>"
      ]
     },
     "metadata": {
      "needs_background": "light"
     },
     "output_type": "display_data"
    },
    {
     "name": "stdout",
     "output_type": "stream",
     "text": [
      "Loss : 0.0871439122825901 \n",
      "\n",
      "\n",
      "\n",
      "\n"
     ]
    },
    {
     "data": {
      "image/png": "[encoded data removed]",
      "text/plain": [
       "<Figure size 432x288 with 1 Axes>"
      ]
     },
     "metadata": {
      "needs_background": "light"
     },
     "output_type": "display_data"
    },
    {
     "name": "stdout",
     "output_type": "stream",
     "text": [
      "Loss : 0.016786966969982754 \n",
      "\n",
      "\n",
      "\n",
      "\n"
     ]
    },
    {
     "data": {
      "image/png": "[encoded data removed]",
      "text/plain": [
       "<Figure size 432x288 with 1 Axes>"
      ]
     },
     "metadata": {
      "needs_background": "light"
     },
     "output_type": "display_data"
    },
    {
     "name": "stdout",
     "output_type": "stream",
     "text": [
      "Loss : 0.01672073317440862 \n",
      "\n",
      "\n",
      "\n",
      "\n"
     ]
    },
    {
     "data": {
      "image/png": "[encoded data removed]",
      "text/plain": [
       "<Figure size 432x288 with 1 Axes>"
      ]
     },
     "metadata": {
      "needs_background": "light"
     },
     "output_type": "display_data"
    },
    {
     "name": "stdout",
     "output_type": "stream",
     "text": [
      "Loss : 0.014357803174334167 \n",
      "\n",
      "\n",
      "\n",
      "\n"
     ]
    }
   ],
   "source": [
    "theta_list = polynomial(7, x, z)"
   ]
  },
  {
   "cell_type": "code",
   "execution_count": 44,
   "metadata": {},
   "outputs": [],
   "source": [
    "# It can be seen that from the 5th degree and above, the loss begins to decrease."
   ]
  },
  {
   "cell_type": "markdown",
   "metadata": {
    "deletable": false,
    "editable": false,
    "nbgrader": {
     "cell_type": "markdown",
     "checksum": "77a2d9c24dfac109ca68bd55c18124dc",
     "grade": false,
     "grade_id": "cell-e0e251ed6937b05c",
     "locked": true,
     "schema_version": 3,
     "solution": false,
     "task": false
    }
   },
   "source": [
    "## 3.6 Discuss the experimental results"
   ]
  },
  {
   "cell_type": "markdown",
   "metadata": {
    "deletable": false,
    "nbgrader": {
     "cell_type": "markdown",
     "checksum": "0f554a1a87ed3ead116cc43dba4387ce",
     "grade": true,
     "grade_id": "cell-e3ba38eb2d410485",
     "locked": false,
     "points": 5,
     "schema_version": 3,
     "solution": true,
     "task": false
    }
   },
   "source": [
    "YOUR ANSWER HERE"
   ]
  },
  {
   "cell_type": "code",
   "execution_count": 45,
   "metadata": {},
   "outputs": [],
   "source": [
    "# As a result of experimenting with polynomial equations, the higher the degree, the closer the Cruve is to the data or \"Overfiting\""
   ]
  },
  {
   "cell_type": "markdown",
   "metadata": {
    "deletable": false,
    "editable": false,
    "nbgrader": {
     "cell_type": "markdown",
     "checksum": "a0217f1d2dda927c1ca564d4120248a2",
     "grade": false,
     "grade_id": "cell-bc6db2fa8fdb7237",
     "locked": true,
     "schema_version": 3,
     "solution": false,
     "task": false
    }
   },
   "source": [
    "## 3.7 Plot the importance of all the polynomial degree.\n",
    "\n",
    "Which degree(s) is/are the most importance feature? What is the appropiate number of degree?"
   ]
  },
  {
   "cell_type": "code",
   "execution_count": 46,
   "metadata": {
    "deletable": false,
    "nbgrader": {
     "cell_type": "code",
     "checksum": "5861b9ef10956872eaf65f22bb1b5905",
     "grade": true,
     "grade_id": "cell-86546ab6d69bbba5",
     "locked": false,
     "points": 5,
     "schema_version": 3,
     "solution": true,
     "task": false
    }
   },
   "outputs": [
    {
     "data": {
      "text/plain": [
       "Text(0.5, 1.0, 'the polynomial degree')"
      ]
     },
     "execution_count": 46,
     "metadata": {},
     "output_type": "execute_result"
    },
    {
     "data": {
      "image/png": "[encoded data removed]",
      "text/plain": [
       "<Figure size 1080x576 with 1 Axes>"
      ]
     },
     "metadata": {
      "needs_background": "light"
     },
     "output_type": "display_data"
    }
   ],
   "source": [
    "# YOUR CODE HERE\n",
    "fig = plt.figure(figsize=(15, 8))\n",
    "plot = plt.bar(['Degree_0','Degree_1','Degree_2','Degree_3','Degree_4','Degree_5'],abs(poly[-1]).reshape(-1))\n",
    "plot[0].set_color('r')\n",
    "plot[1].set_color('g')\n",
    "plot[2].set_color('b')\n",
    "plot[3].set_color('orange')\n",
    "plot[4].set_color('brown')\n",
    "plot[5].set_color('purple')\n",
    "plt.title('the polynomial degree')"
   ]
  },
  {
   "cell_type": "markdown",
   "metadata": {
    "deletable": false,
    "editable": false,
    "nbgrader": {
     "cell_type": "markdown",
     "checksum": "e3e4a786ddaccb384effecc71a4a69cb",
     "grade": false,
     "grade_id": "cell-15a3cf0149cebad6",
     "locked": true,
     "schema_version": 3,
     "solution": false,
     "task": false
    }
   },
   "source": [
    "## 3.8 What happens if you drop the terms corresponding to the weights of smallest magnitude?"
   ]
  },
  {
   "cell_type": "code",
   "execution_count": 47,
   "metadata": {
    "deletable": false,
    "nbgrader": {
     "cell_type": "code",
     "checksum": "dd2b129cb877ddcfec5ea1629fc43b2c",
     "grade": true,
     "grade_id": "cell-6d11a92c1f592dfd",
     "locked": false,
     "points": 5,
     "schema_version": 3,
     "solution": true,
     "task": false
    }
   },
   "outputs": [],
   "source": [
    "# YOUR CODE HERE\n",
    "del_degree4 = np.delete(bias_1,4,axis=1)\n",
    "del_theta_4 = np.delete(poly[-1],4,axis=0)\n",
    "y_remove = np.dot(del_degree4, del_theta_4)\n",
    "y_origi = np.dot(bias_1, poly[-1])\n"
   ]
  },
  {
   "cell_type": "code",
   "execution_count": 48,
   "metadata": {},
   "outputs": [
    {
     "data": {
      "text/plain": [
       "<matplotlib.legend.Legend at 0x7fdbd02b0d60>"
      ]
     },
     "execution_count": 48,
     "metadata": {},
     "output_type": "execute_result"
    },
    {
     "data": {
      "image/png": "[encoded data removed]",
      "text/plain": [
       "<Figure size 432x288 with 1 Axes>"
      ]
     },
     "metadata": {
      "needs_background": "light"
     },
     "output_type": "display_data"
    }
   ],
   "source": [
    "plt.scatter(x, z)\n",
    "plt.plot(x, y_remove, color='r')\n",
    "plt.plot(x, y_origi, color='orange')\n",
    "plt.legend(['Data','Remove', 'Original'])\n"
   ]
  },
  {
   "cell_type": "code",
   "execution_count": 49,
   "metadata": {},
   "outputs": [],
   "source": [
    "# It can be seen that if removing non-essential features (Degree_4) and predicting.\n",
    "# You can see that the line has a slight deviation."
   ]
  },
  {
   "cell_type": "markdown",
   "metadata": {
    "deletable": false,
    "editable": false,
    "nbgrader": {
     "cell_type": "markdown",
     "checksum": "cb1d0887f8c11750dcbb816c2d03d747",
     "grade": false,
     "grade_id": "cell-6536b83ceff024c1",
     "locked": true,
     "schema_version": 3,
     "solution": false,
     "task": false
    }
   },
   "source": [
    "## 3.9 What happens if you drop those terms and then re-compute the model?"
   ]
  },
  {
   "cell_type": "code",
   "execution_count": 50,
   "metadata": {
    "deletable": false,
    "nbgrader": {
     "cell_type": "code",
     "checksum": "4bc39edc2ed79cbf9c16ed28e0b4b63b",
     "grade": true,
     "grade_id": "cell-bfa7ff75ed1ca8e7",
     "locked": false,
     "points": 5,
     "schema_version": 3,
     "solution": true,
     "task": false
    }
   },
   "outputs": [
    {
     "data": {
      "text/plain": [
       "array([[ 0.0164896 ],\n",
       "       [ 0.87239146],\n",
       "       [-0.00110027],\n",
       "       [-0.11573953],\n",
       "       [ 0.0029911 ]])"
      ]
     },
     "execution_count": 50,
     "metadata": {},
     "output_type": "execute_result"
    }
   ],
   "source": [
    "# YOUR CODE HERE\n",
    "del_x_degree = np.delete(bias_2,4,axis=1)\n",
    "poly_new = np.dot(np.linalg.pinv(del_x_degree) , z)\n",
    "poly_new"
   ]
  },
  {
   "cell_type": "code",
   "execution_count": 51,
   "metadata": {},
   "outputs": [
    {
     "data": {
      "text/plain": [
       "<matplotlib.legend.Legend at 0x7fdbc14944f0>"
      ]
     },
     "execution_count": 51,
     "metadata": {},
     "output_type": "execute_result"
    },
    {
     "data": {
      "image/png": "[encoded data removed]",
      "text/plain": [
       "<Figure size 432x288 with 1 Axes>"
      ]
     },
     "metadata": {
      "needs_background": "light"
     },
     "output_type": "display_data"
    }
   ],
   "source": [
    "y_39 = np.dot(del_degree4, poly_new)\n",
    "plt.scatter(x, z)\n",
    "plt.plot(X_lin, y_39, color='r')\n",
    "plt.plot(X_lin, y_origi, color='orange')\n",
    "plt.legend(['Re-compute','Original'])\n"
   ]
  },
  {
   "cell_type": "code",
   "execution_count": 52,
   "metadata": {},
   "outputs": [],
   "source": [
    "# If we remove unimportant features and retrain the model The model predicts the data.\n",
    "# The results are very similar. with not removing that feature (Original)"
   ]
  }
 ],
 "metadata": {
  "kernelspec": {
   "display_name": "Python 3 (ipykernel)",
   "language": "python",
   "name": "python3"
  },
  "language_info": {
   "codemirror_mode": {
    "name": "ipython",
    "version": 3
   },
   "file_extension": ".py",
   "mimetype": "text/x-python",
   "name": "python",
   "nbconvert_exporter": "python",
   "pygments_lexer": "ipython3",
   "version": "3.9.2"
  },
  "toc": {
   "base_numbering": 1,
   "nav_menu": {},
   "number_sections": false,
   "sideBar": true,
   "skip_h1_title": false,
   "title_cell": "Table of Contents",
   "title_sidebar": "Contents",
   "toc_cell": false,
   "toc_position": {},
   "toc_section_display": true,
   "toc_window_display": false
  },
  "varInspector": {
   "cols": {
    "lenName": 16,
    "lenType": 16,
    "lenVar": 40
   },
   "kernels_config": {
    "python": {
     "delete_cmd_postfix": "",
     "delete_cmd_prefix": "del ",
     "library": "var_list.py",
     "varRefreshCmd": "print(var_dic_list())"
    },
    "r": {
     "delete_cmd_postfix": ") ",
     "delete_cmd_prefix": "rm(",
     "library": "var_list.r",
     "varRefreshCmd": "cat(var_dic_list()) "
    }
   },
   "types_to_exclude": [
    "module",
    "function",
    "builtin_function_or_method",
    "instance",
    "_Feature"
   ],
   "window_display": false
  }
 },
 "nbformat": 4,
 "nbformat_minor": 4
}
