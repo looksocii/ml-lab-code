{
 "cells": [
  {
   "cell_type": "markdown",
   "metadata": {
    "id": "4ttPOFs6_htz"
   },
   "source": [
    "Before you turn this problem in, make sure everything runs as expected. First, **restart the kernel** (in the menubar, select Kernel$\\rightarrow$Restart) and then **run all cells** (in the menubar, select Cell$\\rightarrow$Run All).\n",
    "\n",
    "Make sure you fill in any place that says `YOUR CODE HERE` or \"YOUR ANSWER HERE\", as well as your name and student id below:"
   ]
  },
  {
   "cell_type": "code",
   "execution_count": 1,
   "metadata": {
    "id": "Udfc2hh7_ht5"
   },
   "outputs": [],
   "source": [
    "NAME = \"PUNTAKARN KAEWSANGHAN\"\n",
    "STUDENT_ID = \"61070139\""
   ]
  },
  {
   "cell_type": "markdown",
   "metadata": {
    "id": "jTEKiDDS_ht5"
   },
   "source": [
    "---"
   ]
  },
  {
   "cell_type": "markdown",
   "metadata": {
    "deletable": false,
    "editable": false,
    "id": "gVV7gCeu_ht6",
    "nbgrader": {
     "cell_type": "markdown",
     "checksum": "dca603258a2da05800636e632e1ca109",
     "grade": false,
     "grade_id": "cell-541f01758068ded8",
     "locked": true,
     "schema_version": 3,
     "solution": false,
     "task": false
    }
   },
   "source": [
    "# Lab 1 - Python Warmup\n",
    "---\n",
    "## Part 1 - Numpy Package\n",
    "---\n",
    "1.1 Import NumPy module"
   ]
  },
  {
   "cell_type": "code",
   "execution_count": 2,
   "metadata": {
    "deletable": false,
    "id": "FrMMG7Sb_ht6",
    "nbgrader": {
     "cell_type": "code",
     "checksum": "66ecf6deeb53529bbe7c8eaf41a4f86d",
     "grade": false,
     "grade_id": "cell-e1234a3e2d9dadd8",
     "locked": false,
     "schema_version": 3,
     "solution": true,
     "task": false
    }
   },
   "outputs": [],
   "source": [
    "# YOUR CODE HERE\n",
    "import numpy as np\n"
   ]
  },
  {
   "cell_type": "markdown",
   "metadata": {
    "deletable": false,
    "editable": false,
    "id": "aBGGEPVk_ht6",
    "nbgrader": {
     "cell_type": "markdown",
     "checksum": "e9c7ca2eb85af8624007adb66606a1af",
     "grade": false,
     "grade_id": "cell-ee927e57062b25ec",
     "locked": true,
     "schema_version": 3,
     "solution": false,
     "task": false
    }
   },
   "source": [
    "1.2 Create a row vector\n",
    "\n",
    "$row\\_vector = \\begin{bmatrix}1 & 2 & 3 & 4 & 5 & 6 & 7 & 8 & 9\\end{bmatrix}$"
   ]
  },
  {
   "cell_type": "code",
   "execution_count": 3,
   "metadata": {
    "deletable": false,
    "id": "eFBa2xWy_ht6",
    "nbgrader": {
     "cell_type": "code",
     "checksum": "82b844ced2748d04cbc967472873e34f",
     "grade": false,
     "grade_id": "cell-108c73e12dbf5f00",
     "locked": false,
     "schema_version": 3,
     "solution": true,
     "task": false
    }
   },
   "outputs": [],
   "source": [
    "# YOUR CODE HERE\n",
    "row_vector = np.array([1, 2, 3, 4, 5, 6, 7, 8, 9])\n"
   ]
  },
  {
   "cell_type": "code",
   "execution_count": 4,
   "metadata": {
    "deletable": false,
    "editable": false,
    "id": "W-g5kSc-_ht7",
    "nbgrader": {
     "cell_type": "code",
     "checksum": "b64358844a24252a29796f2f5f561e74",
     "grade": true,
     "grade_id": "cell-d15e32099c32e097",
     "locked": true,
     "points": 1,
     "schema_version": 3,
     "solution": false,
     "task": false
    }
   },
   "outputs": [],
   "source": [
    "\"\"\"Check that the vector created is correct. Note that either (1, 9) or (9,) shape is fine\"\"\"\n",
    "assert row_vector.shape == (1, 9) or row_vector.shape == (9,)"
   ]
  },
  {
   "cell_type": "markdown",
   "metadata": {
    "deletable": false,
    "editable": false,
    "id": "KTWOhUnV_ht7",
    "nbgrader": {
     "cell_type": "markdown",
     "checksum": "ae9181f7c1b014a142567b65e46e1dbe",
     "grade": false,
     "grade_id": "cell-779229cefa560411",
     "locked": true,
     "schema_version": 3,
     "solution": false,
     "task": false
    }
   },
   "source": [
    "1.3 Create a column vector\n",
    "\n",
    "$column\\_vector = \\begin{bmatrix}1 \\\\ 2 \\\\ 3\\end{bmatrix}$"
   ]
  },
  {
   "cell_type": "code",
   "execution_count": 5,
   "metadata": {
    "deletable": false,
    "id": "0_8eAfoW_ht7",
    "nbgrader": {
     "cell_type": "code",
     "checksum": "a53efb448695ef72b84c13b6dd0b8628",
     "grade": false,
     "grade_id": "cell-2fea22fbc654b5ea",
     "locked": false,
     "schema_version": 3,
     "solution": true,
     "task": false
    }
   },
   "outputs": [],
   "source": [
    "# YOUR CODE HERE\n",
    "column_vector = np.array([[1, 2, 3]]).T\n"
   ]
  },
  {
   "cell_type": "code",
   "execution_count": 6,
   "metadata": {
    "deletable": false,
    "editable": false,
    "id": "enEEi3E2_ht7",
    "nbgrader": {
     "cell_type": "code",
     "checksum": "d7118ca3ecb970bac82e152295d45908",
     "grade": true,
     "grade_id": "cell-5d4819bd235d2d67",
     "locked": true,
     "points": 1,
     "schema_version": 3,
     "solution": false,
     "task": false
    }
   },
   "outputs": [],
   "source": [
    "\"\"\"Check that the vector created is correct. The dimension must be (3, 1)\"\"\"\n",
    "assert column_vector.shape == (3, 1)"
   ]
  },
  {
   "cell_type": "markdown",
   "metadata": {
    "deletable": false,
    "editable": false,
    "id": "sEgqPOxK_ht8",
    "nbgrader": {
     "cell_type": "markdown",
     "checksum": "b3fb8ee3d73672b08e864993b0e1e101",
     "grade": false,
     "grade_id": "cell-3d0119de2c36ed4f",
     "locked": true,
     "schema_version": 3,
     "solution": false,
     "task": false
    }
   },
   "source": [
    "1.4 Create a $3\\times3$ and transpose it\n",
    "\n",
    "$matrix = \\begin{bmatrix}1 & 2 & 3\\\\4 & 5 & 6\\\\7 & 8 & 9\\end{bmatrix}$\n",
    "\n",
    "$matrix\\_transpose = \\begin{bmatrix}1 & 2 & 3\\\\4 & 5 & 6\\\\7 & 8 & 9\\end{bmatrix}^{\\ \\ \\intercal} = \\begin{bmatrix}1 & 4 & 7\\\\2 & 5 & 8\\\\3 & 6 & 9\\end{bmatrix}$"
   ]
  },
  {
   "cell_type": "code",
   "execution_count": 7,
   "metadata": {
    "deletable": false,
    "id": "8iFlRU_M_ht8",
    "nbgrader": {
     "cell_type": "code",
     "checksum": "3e42885c51ffae05ea2da4dea402a76a",
     "grade": false,
     "grade_id": "cell-d4af65d4f5203ad6",
     "locked": false,
     "schema_version": 3,
     "solution": true,
     "task": false
    }
   },
   "outputs": [],
   "source": [
    "# YOUR CODE HERE\n",
    "matrix = np.array([[1, 2, 3], [4, 5, 6], [7, 8, 9]])\n",
    "matrix_transpose = matrix.T\n"
   ]
  },
  {
   "cell_type": "code",
   "execution_count": 8,
   "metadata": {
    "deletable": false,
    "editable": false,
    "id": "ehV3alpm_ht8",
    "nbgrader": {
     "cell_type": "code",
     "checksum": "bc3bda69e8c31f6aa972c4337f54b0b4",
     "grade": true,
     "grade_id": "cell-66113213467158c9",
     "locked": true,
     "points": 1,
     "schema_version": 3,
     "solution": false,
     "task": false
    }
   },
   "outputs": [],
   "source": [
    "\"\"\"Check that the matrix is correctly transposed\"\"\"\n",
    "assert matrix.shape == (3, 3) and matrix_transpose.shape == (3, 3)"
   ]
  },
  {
   "cell_type": "markdown",
   "metadata": {
    "deletable": false,
    "editable": false,
    "id": "_smB3A91_ht8",
    "nbgrader": {
     "cell_type": "markdown",
     "checksum": "cb37a38d708c360e24bb3ad30c176484",
     "grade": false,
     "grade_id": "cell-ab82340ed7430564",
     "locked": true,
     "schema_version": 3,
     "solution": false,
     "task": false
    }
   },
   "source": [
    "1.5 Create a $5\\times5$ identity matrix\n",
    "\n",
    "$identity\\_matrix = \\begin{bmatrix}1 & 0 & 0 & 0 & 0\\\\0 & 1 & 0 & 0 & 0\\\\0 & 0 & 1 & 0 & 0\\\\0 & 0 & 0 & 1 & 0\\\\0 & 0 & 0 & 0 & 1 \\end{bmatrix}$"
   ]
  },
  {
   "cell_type": "code",
   "execution_count": 9,
   "metadata": {
    "deletable": false,
    "id": "i1dG_x7x_ht8",
    "nbgrader": {
     "cell_type": "code",
     "checksum": "927af1a765089372a4f9d49b2cf0560f",
     "grade": false,
     "grade_id": "cell-6743a37aa4bca337",
     "locked": false,
     "schema_version": 3,
     "solution": true,
     "task": false
    }
   },
   "outputs": [],
   "source": [
    "# YOUR CODE HERE\n",
    "identity_matrix = np.identity(5)\n"
   ]
  },
  {
   "cell_type": "code",
   "execution_count": 10,
   "metadata": {
    "deletable": false,
    "editable": false,
    "id": "vQbXYJxh_ht9",
    "nbgrader": {
     "cell_type": "code",
     "checksum": "d5bfeb8c5dbb61c562fad50cad3f1d4e",
     "grade": true,
     "grade_id": "cell-e9d0b0767d1cbb45",
     "locked": true,
     "points": 1,
     "schema_version": 3,
     "solution": false,
     "task": false
    }
   },
   "outputs": [],
   "source": [
    "\"\"\"Check 5x5 identity matrix\"\"\"\n",
    "assert identity_matrix.shape == (5, 5)"
   ]
  },
  {
   "cell_type": "markdown",
   "metadata": {
    "deletable": false,
    "editable": false,
    "id": "XPWXxuPo_ht9",
    "nbgrader": {
     "cell_type": "markdown",
     "checksum": "725b71ddaa5e85842a4a5645597eeebf",
     "grade": false,
     "grade_id": "cell-c2f68b8c097facbc",
     "locked": true,
     "schema_version": 3,
     "solution": false,
     "task": false
    }
   },
   "source": [
    "1.6 Create a $2\\times3$ zeros matrix\n",
    "\n",
    "$zeros\\_matrix = \\begin{bmatrix}0 & 0 & 0\\\\0 & 0 & 0\\end{bmatrix}$"
   ]
  },
  {
   "cell_type": "code",
   "execution_count": 11,
   "metadata": {
    "deletable": false,
    "id": "rmX56coS_ht9",
    "nbgrader": {
     "cell_type": "code",
     "checksum": "707d60347d94f738316feccb9c464401",
     "grade": false,
     "grade_id": "cell-6fbae8056a1b729d",
     "locked": false,
     "schema_version": 3,
     "solution": true,
     "task": false
    }
   },
   "outputs": [],
   "source": [
    "# YOUR CODE HERE\n",
    "s = (2, 3)\n",
    "zeros_matrix = np.zeros(s)\n"
   ]
  },
  {
   "cell_type": "code",
   "execution_count": 12,
   "metadata": {
    "deletable": false,
    "editable": false,
    "id": "YCqs9001_ht9",
    "nbgrader": {
     "cell_type": "code",
     "checksum": "e8ed77477d48afe9cffa36d93e01e669",
     "grade": true,
     "grade_id": "cell-a5b294b02581e954",
     "locked": true,
     "points": 1,
     "schema_version": 3,
     "solution": false,
     "task": false
    }
   },
   "outputs": [],
   "source": [
    "\"\"\"Check 2x3 zeros matrix\"\"\"\n",
    "assert zeros_matrix.shape == (2, 3)"
   ]
  },
  {
   "cell_type": "markdown",
   "metadata": {
    "deletable": false,
    "editable": false,
    "id": "xKnuzNmM_ht9",
    "nbgrader": {
     "cell_type": "markdown",
     "checksum": "1aaf560ba1cfdc475530b024bb6bc016",
     "grade": false,
     "grade_id": "cell-dffcfcb89545dbaf",
     "locked": true,
     "schema_version": 3,
     "solution": false,
     "task": false
    }
   },
   "source": [
    "1.7 Create a $3\\times2$ ones matrix\n",
    "\n",
    "$ones\\_matrix = \\begin{bmatrix}1 & 1\\\\1 & 1\\\\1 & 1\\end{bmatrix}$"
   ]
  },
  {
   "cell_type": "code",
   "execution_count": 13,
   "metadata": {
    "deletable": false,
    "id": "F4DR2PD0_ht-",
    "nbgrader": {
     "cell_type": "code",
     "checksum": "9a8802271b358f363621a616f9e2c7f1",
     "grade": false,
     "grade_id": "cell-ca78d05ed4a8be25",
     "locked": false,
     "schema_version": 3,
     "solution": true,
     "task": false
    }
   },
   "outputs": [],
   "source": [
    "# YOUR CODE HERE\n",
    "s = (3, 2)\n",
    "ones_matrix = np.ones(s)\n"
   ]
  },
  {
   "cell_type": "code",
   "execution_count": 14,
   "metadata": {
    "deletable": false,
    "editable": false,
    "id": "2vtAe_3J_ht-",
    "nbgrader": {
     "cell_type": "code",
     "checksum": "9f8cf8aa04ef7df4c09a2ba42d02351d",
     "grade": true,
     "grade_id": "cell-48263aa77532bf5d",
     "locked": true,
     "points": 1,
     "schema_version": 3,
     "solution": false,
     "task": false
    }
   },
   "outputs": [],
   "source": [
    "\"\"\"Check 3x2 ones matrix\"\"\"\n",
    "assert ones_matrix.shape == (3, 2)"
   ]
  },
  {
   "cell_type": "markdown",
   "metadata": {
    "deletable": false,
    "editable": false,
    "id": "r20MhWTO_ht-",
    "nbgrader": {
     "cell_type": "markdown",
     "checksum": "1ece74423f85f0f4372f506d8aabf55e",
     "grade": false,
     "grade_id": "cell-b7b873042fd78918",
     "locked": true,
     "schema_version": 3,
     "solution": false,
     "task": false
    }
   },
   "source": [
    "1.8 Create a $4\\times4$ random matrix\n",
    "\n",
    "$random\\_matrix = \\begin{bmatrix}1.494079 & -0.205158 & 0.313068 & -0.854096\\\\-2.552990 & 0.653619 & 0.864436 & -0.742165\\\\2.269755 & -1.454366 & 0.045759 & -0.187184\\\\1.532779 & 1.469359 & 0.154947 & 0.378163\\end{bmatrix}$"
   ]
  },
  {
   "cell_type": "code",
   "execution_count": 15,
   "metadata": {
    "deletable": false,
    "editable": false,
    "id": "so9OKG-N_ht-",
    "nbgrader": {
     "cell_type": "code",
     "checksum": "4012aa54d0efe9dd25525f4744b325aa",
     "grade": false,
     "grade_id": "cell-165a688f685075b2",
     "locked": true,
     "schema_version": 3,
     "solution": false,
     "task": false
    }
   },
   "outputs": [],
   "source": [
    "random = np.random.RandomState(seed=0)"
   ]
  },
  {
   "cell_type": "code",
   "execution_count": 16,
   "metadata": {
    "deletable": false,
    "id": "6aB9npLn_ht-",
    "nbgrader": {
     "cell_type": "code",
     "checksum": "9ebbe5b163c3fd226e62441d0da12a3b",
     "grade": false,
     "grade_id": "cell-18abd4e0710b9912",
     "locked": false,
     "schema_version": 3,
     "solution": true,
     "task": false
    }
   },
   "outputs": [],
   "source": [
    "# YOUR CODE HERE\n",
    "random_matrix = random.rand(4, 4)\n"
   ]
  },
  {
   "cell_type": "code",
   "execution_count": 17,
   "metadata": {
    "deletable": false,
    "editable": false,
    "id": "sjUtRAnJ_ht-",
    "nbgrader": {
     "cell_type": "code",
     "checksum": "1a7e8d8d068b0081fcafda08fae85796",
     "grade": true,
     "grade_id": "cell-c6e923b7b3d4df43",
     "locked": true,
     "points": 1,
     "schema_version": 3,
     "solution": false,
     "task": false
    }
   },
   "outputs": [],
   "source": [
    "\"\"\"Check random matrix\"\"\"\n",
    "assert random_matrix.shape == (4, 4)"
   ]
  },
  {
   "cell_type": "markdown",
   "metadata": {
    "deletable": false,
    "editable": false,
    "id": "NmAf6u5H_ht-",
    "nbgrader": {
     "cell_type": "markdown",
     "checksum": "a04e7a53a02eef839120e08e0fb47c2b",
     "grade": false,
     "grade_id": "cell-732710f9ffe8a6b4",
     "locked": true,
     "schema_version": 3,
     "solution": false,
     "task": false
    }
   },
   "source": [
    "1.9 Create the following matrix by simply use the matrix created in question 1.4\n",
    "\n",
    "$tiled\\_matrix = \\begin{bmatrix}1 & 2 & 3 & 1 & 2 & 3 & 1 & 2 & 3\\\\4 & 5 & 6 & 4 & 5 & 6 & 4 & 5 & 6\\\\7 & 8 & 9 & 7 & 8 & 9 & 7 & 8 & 9\\\\1 & 2 & 3 & 1 & 2 & 3 & 1 & 2 & 3\\\\4 & 5 & 6 & 4 & 5 & 6 & 4 & 5 & 6\\\\7 & 8 & 9 & 7 & 8 & 9 & 7 & 8 & 9\\\\\\end{bmatrix}$"
   ]
  },
  {
   "cell_type": "code",
   "execution_count": 18,
   "metadata": {
    "deletable": false,
    "id": "gEeDTD8C_ht_",
    "nbgrader": {
     "cell_type": "code",
     "checksum": "28afba6e9cc60b34a51bcca6a1e0e524",
     "grade": false,
     "grade_id": "cell-7b872bf94f4bf4f5",
     "locked": false,
     "schema_version": 3,
     "solution": true,
     "task": false
    }
   },
   "outputs": [],
   "source": [
    "# YOUR CODE HERE\n",
    "tiled_matrix = np.tile(matrix, (2, 3))\n"
   ]
  },
  {
   "cell_type": "code",
   "execution_count": 19,
   "metadata": {
    "deletable": false,
    "editable": false,
    "id": "9AG0VDsW_ht_",
    "nbgrader": {
     "cell_type": "code",
     "checksum": "db5f181609988b7e44cf5bc5b5feb4b4",
     "grade": true,
     "grade_id": "cell-b93478cb21a64574",
     "locked": true,
     "points": 1,
     "schema_version": 3,
     "solution": false,
     "task": false
    }
   },
   "outputs": [],
   "source": [
    "\"\"\"Check tiled matrix\"\"\"\n",
    "assert tiled_matrix.shape == (6, 9)"
   ]
  },
  {
   "cell_type": "markdown",
   "metadata": {
    "deletable": false,
    "editable": false,
    "id": "s1RiH40G_ht_",
    "nbgrader": {
     "cell_type": "markdown",
     "checksum": "9efa82361c5d6f823f9f7d5e697c4cb7",
     "grade": false,
     "grade_id": "cell-4289ecc5ba6d8ef8",
     "locked": true,
     "schema_version": 3,
     "solution": false,
     "task": false
    }
   },
   "source": [
    "1.10 There is a list of 50 DSBA.KMITL students containing their weight and height stored as vectors named “Weight” and “Height”, respectively. These vectors are randomly generated using seed number 10. The values of Weight and Height are integers that range from 30-100 kg and 160-200 cm, respectively. Your task is to calculate the BMI of the students:\n",
    "\n",
    "<center>$BMI = \\frac{Weight\\ (kg)}{Height^2\\ (m)}\\ \\ \\ \\ \\ \\ \\ \\ \\ \\ \\ \\ \\ \\ $</center>\n",
    "\n",
    "a) Find the number of students who have BMI above the standard (the standard BMI = 22.9)\n",
    "\n",
    "b) Find Mean, Median and Standard Deviation of BMI"
   ]
  },
  {
   "cell_type": "code",
   "execution_count": 20,
   "metadata": {
    "deletable": false,
    "editable": false,
    "id": "lv1pcOU2_ht_",
    "nbgrader": {
     "cell_type": "code",
     "checksum": "db41d2ec3c639de9dec6d2a53eb8e429",
     "grade": false,
     "grade_id": "cell-76bf3cd689d685fa",
     "locked": true,
     "schema_version": 3,
     "solution": false,
     "task": false
    }
   },
   "outputs": [],
   "source": [
    "student_weights = np.array([39, 45, 94, 58, 59, 38, 30, 70, 66, 46, 41, 84, 92, 63, 79, 81, 84,\n",
    "                            99, 43, 55, 43, 60, 60, 42, 95, 61, 87, 66, 57, 48, 52, 53, 41, 58,\n",
    "                            39, 45, 48, 41, 47, 76, 37, 58, 63, 74, 35, 34, 80, 84, 64, 45])\n",
    "student_heights = np.array([173, 184, 175, 166, 181, 182, 171, 172, 188, 192, 175, 200, 193,\n",
    "                            200, 185, 169, 197, 160, 178, 183, 163, 189, 176, 180, 178, 174,\n",
    "                            175, 177, 185, 177, 192, 177, 176, 186, 172, 190, 177, 177, 176,\n",
    "                            160, 191, 197, 169, 160, 198, 182, 192, 162, 163, 191])"
   ]
  },
  {
   "cell_type": "code",
   "execution_count": 21,
   "metadata": {
    "deletable": false,
    "id": "037ZX6QP_huA",
    "nbgrader": {
     "cell_type": "code",
     "checksum": "f993574d3986b20b2ad55715544a4c4e",
     "grade": false,
     "grade_id": "cell-78bc4163d6fbb5d8",
     "locked": false,
     "schema_version": 3,
     "solution": true,
     "task": false
    }
   },
   "outputs": [],
   "source": [
    "def bmi(weights, heights):\n",
    "    \"\"\"Calculate bmi from weights (kg) and heights (cm)\"\"\"\n",
    "    # YOUR CODE HERE\n",
    "    heights = heights*0.01\n",
    "    return weights/(heights**2)\n",
    "    \n",
    "student_bmi = bmi(student_weights, student_heights)\n",
    "\n",
    "# a) Find the number of students who have BMI above the standard (the standard BMI = 22.9)\n",
    "# YOUR CODE HERE\n",
    "\n",
    "# student_bmi = []\n",
    "# n_students = 0\n",
    "# for i in range(student_weights.size):\n",
    "#     bmi_value = bmi(student_weights[i], student_heights[i])\n",
    "#     student_bmi.append(bmi_value)\n",
    "#     if bmi_value >= 22.9:\n",
    "#         n_students += 1;\n",
    "# student_bmi = np.array(student_bmi)\n",
    "\n",
    "# New for Numpy\n",
    "n_students = np.count_nonzero(student_bmi > 22.9)\n",
    "\n",
    "# b) Find Mean, Median and Standard Deviation of BMI\n",
    "# YOUR CODE HERE\n",
    "student_mean = np.mean(student_bmi)\n",
    "student_median = np.median(student_bmi)\n",
    "student_std = np.std(student_bmi)\n"
   ]
  },
  {
   "cell_type": "code",
   "execution_count": 22,
   "metadata": {
    "deletable": false,
    "editable": false,
    "id": "Q3n5HRuO_huA",
    "nbgrader": {
     "cell_type": "code",
     "checksum": "f0b879fbc4da1eb6d36a19ecf3243847",
     "grade": true,
     "grade_id": "cell-5fc94bf8c381914a",
     "locked": true,
     "points": 3,
     "schema_version": 3,
     "solution": false,
     "task": false
    }
   },
   "outputs": [],
   "source": [
    "\"\"\"Check BMI function along with mean, median, and standard deviation\"\"\"\n",
    "assert student_bmi.shape == (50,)\n",
    "assert np.allclose(student_bmi, np.array([13.03083965, 13.2915879 , 30.69387755, 21.04804761, 18.00921828,\n",
    "                                          11.47204444, 10.25956705, 23.66143862, 18.67360797, 12.47829861,\n",
    "                                          13.3877551 , 21.        , 24.69864963, 15.75      , 23.082542  ,\n",
    "                                          28.36035153, 21.64446391, 38.671875  , 13.57151875, 16.42330317,\n",
    "                                          16.18427491, 16.79684219, 19.36983471, 12.96296296, 29.98358793,\n",
    "                                          20.14797199, 28.40816327, 21.06674327, 16.65449233, 15.32126783,\n",
    "                                          14.10590278, 16.91723323, 13.23605372, 16.76494392, 13.18280151,\n",
    "                                          12.46537396, 15.32126783, 13.08691628, 15.17303719, 29.6875    ,\n",
    "                                          10.14226584, 14.94498699, 22.05805119, 28.90625   ,  8.92766044,\n",
    "                                          10.26446081, 21.70138889, 32.00731596, 24.08822312, 12.33518818]))\n",
    "assert n_students == 12\n",
    "assert np.allclose(student_mean, 18.62843900031512)\n",
    "assert np.allclose(student_median, 16.709718127160542)\n",
    "assert np.allclose(student_std, 6.699366976447591)"
   ]
  },
  {
   "cell_type": "markdown",
   "metadata": {
    "deletable": false,
    "editable": false,
    "id": "2AfPTJho_huA",
    "nbgrader": {
     "cell_type": "markdown",
     "checksum": "01f72740074953ee4917d2e97423c9cc",
     "grade": false,
     "grade_id": "cell-5b9c847ef84d5505",
     "locked": true,
     "schema_version": 3,
     "solution": false,
     "task": false
    },
    "tags": []
   },
   "source": [
    "1.11 The 50 DSBA.KMITL enrol in three courses in their third year as follows:\n",
    "* Machine Learning 3-Credit\n",
    "* Image Processing 1-Credit\n",
    "* Natural Language Processing 2-Credit\n",
    "\n",
    "After their examination, you are entitled to assign grade of A, B+, B, C+, C, D+, D, and F on their score according to the table below.\n",
    "\n",
    "| Grade | Point | Score |\n",
    "| --- | --- | --- |\n",
    "| A | 4.0 | >=80 |\n",
    "| B+ | 3.5 | >=75 |\n",
    "| B | 3.0 | >=70 |\n",
    "| C+ | 2.5 | >=65 |\n",
    "| C | 2.0 | >=60 |\n",
    "| D+ | 1.5 | >=55 |\n",
    "| D | 1.0 | >=50 |\n",
    "| F | 0.0 | <50 |\n",
    "\n",
    "\n",
    "The scores are stored in the following format:\n",
    "\n",
    "$Score(int) = \\begin{bmatrix}Subject\\ 1\\ Score & Subject\\ 2\\ Score & Subject\\ 3\\ Score\\end{bmatrix}$\n",
    "\n",
    "It is noted that these scores should be randomly generated using seed number 10 and range from 0 to 100.\n",
    "\n",
    "Example:\n",
    "\n",
    "$Score = \\begin{bmatrix}10 & 50 & 70\\\\35 & 45 & 90\\\\20 & 30 & 94\\\\ .. & .. & .. \\\\50 & 75 & 53\\end{bmatrix}$\n",
    "\n",
    "Your tasks are as follows:\n",
    "\n",
    "a) Find maximum and minimum scores of each subject together with their indices. Furthermore, mean, and standard deviation of each subjects should be reported.\n",
    "\n",
    "b) Calculate GPS of each student and report the number of students that achieved GPS greater than or equal to 2.0."
   ]
  },
  {
   "cell_type": "code",
   "execution_count": 23,
   "metadata": {
    "deletable": false,
    "editable": false,
    "id": "IqGu6AXD_huB",
    "nbgrader": {
     "cell_type": "code",
     "checksum": "73ea1f977eb91eee511e0a0b9c5a4c17",
     "grade": false,
     "grade_id": "cell-4fc477dbc45f37de",
     "locked": true,
     "schema_version": 3,
     "solution": false,
     "task": false
    }
   },
   "outputs": [],
   "source": [
    "random = np.random.RandomState(seed=10)\n",
    "scores = random.randint(low=0, high=101, size=(50, 3))"
   ]
  },
  {
   "cell_type": "code",
   "execution_count": 24,
   "metadata": {
    "deletable": false,
    "id": "PBVDL9-X_huB",
    "nbgrader": {
     "cell_type": "code",
     "checksum": "995fe82f6b40a3c474965e5a39834862",
     "grade": false,
     "grade_id": "cell-467a104e1a24f1d0",
     "locked": false,
     "schema_version": 3,
     "solution": true,
     "task": false
    },
    "tags": []
   },
   "outputs": [],
   "source": [
    "# a) Find maximum and minimum scores of each subject together with their indices. Furthermore, mean, and standard deviation of each subjects should be reported.\n",
    "\n",
    "# YOUR CODE HERE\n",
    "max_scores = np.amax(scores, axis=0)\n",
    "min_scores = np.amin(scores, axis=0)\n",
    "\n",
    "max_indices = np.argmax(scores, axis=0)\n",
    "min_indices = np.argmin(scores, axis=0)\n",
    "\n",
    "mean_scores = np.mean(scores, axis=0)\n",
    "std_scores = np.std(scores, axis=0)\n",
    "\n",
    "# b) Calculate GPS of each student and report the number of students that achieved GPS greater than or equal to 2.0.\n",
    "\n",
    "# YOUR CODE HERE\n",
    "def findGrade(score):\n",
    "    if score >= 80:\n",
    "        grade = 4.0\n",
    "    elif score >= 75:\n",
    "        grade = 3.5\n",
    "    elif score >= 70:\n",
    "        grade = 3.0\n",
    "    elif score >= 65:\n",
    "        grade = 2.5\n",
    "    elif score >= 60:\n",
    "        grade = 2.0\n",
    "    elif score >= 55:\n",
    "        grade = 1.5\n",
    "    elif score >= 50:\n",
    "        grade = 1.0\n",
    "    elif score < 50:\n",
    "        grade = 0.0\n",
    "    return grade\n",
    "\n",
    "student_gps = []\n",
    "for i in range(len(scores)):\n",
    "    s1 = findGrade(scores[i][0])\n",
    "    s2 = findGrade(scores[i][1])\n",
    "    s3 = findGrade(scores[i][2])\n",
    "    student_gps.append(((s1*3)+(s2*1)+(s3*2))/6)\n",
    "\n",
    "student_gps = np.array(student_gps)\n",
    "n_students = np.count_nonzero(student_gps >= 2.0)\n"
   ]
  },
  {
   "cell_type": "code",
   "execution_count": 25,
   "metadata": {
    "deletable": false,
    "editable": false,
    "id": "ZKMeUtH7_huB",
    "nbgrader": {
     "cell_type": "code",
     "checksum": "16df0ebb621b4e55cbc0bb1438c917b2",
     "grade": true,
     "grade_id": "cell-21b15b3c7ffb860f",
     "locked": true,
     "points": 4,
     "schema_version": 3,
     "solution": false,
     "task": false
    }
   },
   "outputs": [],
   "source": [
    "\"\"\"Check GPA answers\"\"\"\n",
    "assert max_scores.shape == max_indices.shape == (3,)\n",
    "assert min_scores.shape == min_indices.shape == (3,)\n",
    "assert mean_scores.shape == (3,)\n",
    "assert std_scores.shape == (3,)\n",
    "assert student_gps.shape == (50,)\n",
    "assert 0 <= n_students <= 50"
   ]
  },
  {
   "cell_type": "markdown",
   "metadata": {
    "deletable": false,
    "editable": false,
    "id": "4N2dgWiV_huC",
    "nbgrader": {
     "cell_type": "markdown",
     "checksum": "aad29c0f1e17b0ab815628be73a1f3c6",
     "grade": false,
     "grade_id": "cell-017a98bfeaf5bfff",
     "locked": true,
     "schema_version": 3,
     "solution": false,
     "task": false
    },
    "tags": []
   },
   "source": [
    "## Part 2 - Matplotlib\n",
    "---\n",
    "2.1 Plot the following graph\n",
    "\n",
    "![graph1](https://bit.ly/3o6H3L0)"
   ]
  },
  {
   "cell_type": "code",
   "execution_count": 26,
   "metadata": {
    "deletable": false,
    "id": "hvuEaNBi_huC",
    "nbgrader": {
     "cell_type": "code",
     "checksum": "f671732144134c0391548a428845804a",
     "grade": true,
     "grade_id": "cell-d350b8f399467d36",
     "locked": false,
     "points": 5,
     "schema_version": 3,
     "solution": true,
     "task": false
    }
   },
   "outputs": [
    {
     "data": {
      "text/plain": [
       "<matplotlib.legend.Legend at 0x7fe908edbc10>"
      ]
     },
     "execution_count": 26,
     "metadata": {},
     "output_type": "execute_result"
    },
    {
     "data": {
      "image/png": "[encoded data removed]",
      "text/plain": [
       "<Figure size 720x482.4 with 1 Axes>"
      ]
     },
     "metadata": {
      "needs_background": "light"
     },
     "output_type": "display_data"
    }
   ],
   "source": [
    "def equation1(x):\n",
    "    return x ** 2\n",
    "def equation2(x):\n",
    "    return x ** 3\n",
    "def equation3(x):\n",
    "    return x ** 2 + 4\n",
    "\n",
    "# YOUR CODE HERE\n",
    "import matplotlib as mpl\n",
    "import matplotlib.pyplot as plt\n",
    "\n",
    "x = np.linspace(0, 2, 100)\n",
    "fig, ax = plt.subplots(figsize=(10, 6.7), layout='constrained')\n",
    "ax.plot(x, equation1(x), label='y = x^2')\n",
    "ax.plot(x, equation2(x), label='y = x^3')\n",
    "ax.plot(x, equation3(x), label='y = x^2+4')\n",
    "ax.set_xlabel('x')\n",
    "ax.set_ylabel('y')\n",
    "ax.set_title(\"Matplotlib Exercise\")\n",
    "ax.legend()"
   ]
  },
  {
   "cell_type": "markdown",
   "metadata": {
    "deletable": false,
    "editable": false,
    "id": "omnelWNq_huC",
    "nbgrader": {
     "cell_type": "markdown",
     "checksum": "b581b2fb5869c2b07811e30383c0fe89",
     "grade": false,
     "grade_id": "cell-22a8f22dbe0a6be0",
     "locked": true,
     "schema_version": 3,
     "solution": false,
     "task": false
    }
   },
   "source": [
    "2.2 Plot the following graph\n",
    "\n",
    "![Car Sales](https://bit.ly/3o2NwGQ)"
   ]
  },
  {
   "cell_type": "code",
   "execution_count": 27,
   "metadata": {
    "deletable": false,
    "editable": false,
    "id": "2WV0sKy7_huD",
    "nbgrader": {
     "cell_type": "code",
     "checksum": "a0b33faaffa20cd864c7bac0de15947a",
     "grade": false,
     "grade_id": "cell-a8752848a4fdc65f",
     "locked": true,
     "schema_version": 3,
     "solution": false,
     "task": false
    }
   },
   "outputs": [],
   "source": [
    "sales_data = {\n",
    "    'hs': 780,\n",
    "    'cr_v': 635,\n",
    "    'cx_8': 320,\n",
    "    'forester': 200,\n",
    "    'cx_5': 150,\n",
    "    'captiva': 100,\n",
    "    'x_trail': 40\n",
    "}"
   ]
  },
  {
   "cell_type": "code",
   "execution_count": 28,
   "metadata": {
    "deletable": false,
    "id": "atjA04-w_huD",
    "nbgrader": {
     "cell_type": "code",
     "checksum": "a3d14d27eaba3dbbe8053b52d40d398d",
     "grade": true,
     "grade_id": "cell-bb78e6d4c01c09e3",
     "locked": false,
     "points": 5,
     "schema_version": 3,
     "solution": true,
     "task": false
    }
   },
   "outputs": [
    {
     "data": {
      "image/png": "[encoded data removed]",
      "text/plain": [
       "<Figure size 720x554.4 with 1 Axes>"
      ]
     },
     "metadata": {
      "needs_background": "light"
     },
     "output_type": "display_data"
    }
   ],
   "source": [
    "def plot_car_sales(car_models, car_sales):\n",
    "    # YOUR CODE HERE\n",
    "    fig, ax = plt.subplots(figsize=(10, 7.7), layout='constrained')\n",
    "    categories = ['HS', 'CR-V', 'CX-8', 'Forester', 'CX-5', 'Captiva', 'X-Trail']\n",
    "    ax.set_xlabel('Car Model')\n",
    "    ax.set_ylabel('Sales')\n",
    "    ax.set_title('Car Sales Report')\n",
    "    ax.bar(categories, car_sales)\n",
    "    \n",
    "plot_car_sales(sales_data.keys(), sales_data.values())"
   ]
  }
 ],
 "metadata": {
  "colab": {
   "name": "part-1-numpy-and-matplotlib.ipynb",
   "provenance": []
  },
  "kernelspec": {
   "display_name": "Python 3 (ipykernel)",
   "language": "python",
   "name": "python3"
  },
  "language_info": {
   "codemirror_mode": {
    "name": "ipython",
    "version": 3
   },
   "file_extension": ".py",
   "mimetype": "text/x-python",
   "name": "python",
   "nbconvert_exporter": "python",
   "pygments_lexer": "ipython3",
   "version": "3.9.2"
  }
 },
 "nbformat": 4,
 "nbformat_minor": 4
}
